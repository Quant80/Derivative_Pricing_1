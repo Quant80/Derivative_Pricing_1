{
 "cells": [
  {
   "cell_type": "markdown",
   "id": "73172415-3283-4fb0-9602-f0d0c2e081cf",
   "metadata": {},
   "source": [
    "<div class=\"alert alert-block alert-success\">\n",
    "<b>Group Work Project Submission #1</b><br> MScFE 620: Derivative Pricing. GROUP #332</div>"
   ]
  },
  {
   "cell_type": "markdown",
   "id": "29a9e181-f0f1-4aa0-89eb-ba81b13f07b0",
   "metadata": {},
   "source": [
    "***\n",
    "**<font size=6 color=blue>Derivatives - Options</font>**\n",
    "***"
   ]
  },
  {
   "cell_type": "markdown",
   "id": "3d607393-dcbf-481a-ad3d-577470957dd6",
   "metadata": {},
   "source": [
    "<font size=5> **Step 1:**</font>"
   ]
  },
  {
   "cell_type": "markdown",
   "id": "8cd2b680-bb04-4e09-9d51-9cf2d403a3e5",
   "metadata": {},
   "source": [
    "# Questions 1 to 4\n",
    "***"
   ]
  },
  {
   "cell_type": "markdown",
   "id": "aad99f96-59be-4af0-a1ca-82f9130a1c52",
   "metadata": {},
   "source": [
    ">_1. Does put-call parity apply for European options? Why or why not?_\n",
    "\n",
    ">> Yes. Put call parity applies to European options. We demonstrate its validity below with prices obtained for put and call using Black Scholes model."
   ]
  },
  {
   "cell_type": "markdown",
   "id": "d24d1fb6-6e63-4715-8782-39f778dbeda7",
   "metadata": {},
   "source": [
    "***\n",
    "> _2. Rewrite put-call parity to solve for the call in terms of everything else._\n",
    ">> Equation for put-call parity to solve for call option in terms of everything else is as below:\n",
    ">>\n",
    "\n",
    "$$c = S_0 + p - K e^{-rt}$$\n"
   ]
  },
  {
   "cell_type": "markdown",
   "id": "833b534b-9d5d-4a0c-9828-3af1f6db3c60",
   "metadata": {},
   "source": [
    "***\n",
    ">_3. Rewrite put-call parity to solve for the put in terms of everything else._\n",
    ">> Equation for put-call parity to solve for put option in terms of everything else is as below:\n",
    ">>\n",
    "\n",
    "$$p = c + K e^{-rt} - S_0$$\n"
   ]
  },
  {
   "cell_type": "markdown",
   "id": "2cd56f85-47c4-4215-810f-f6df97960b6f",
   "metadata": {},
   "source": [
    "***\n",
    "> _4. Does put-call parity apply for American options? Why or why not?_\n",
    ">> No. Put call parity does not apply to American options due to the feature of early exercise."
   ]
  },
  {
   "cell_type": "markdown",
   "id": "a25c6ab8-2a26-4401-9f63-276e7ac52096",
   "metadata": {},
   "source": [
    "***\n",
    "We are given the information below: \\\n",
    "Underlying/Stock price, S=100 \\\n",
    "Option Strike price, K=100 \\\n",
    "Risk-free rate, r=5% \\\n",
    "Volatility $\\sigma$=20% \\\n",
    "Time to expiration t=3 months"
   ]
  },
  {
   "cell_type": "markdown",
   "id": "7e4ef0d6-5905-43d5-b470-2e5f0f3c96e0",
   "metadata": {},
   "source": [
    "***\n",
    "<font size=5> **Setup and initializations**</font>\n",
    "\n",
    "***\n"
   ]
  },
  {
   "cell_type": "code",
   "execution_count": 1,
   "id": "dc6a1697-70b9-4547-8591-bb27e298f01e",
   "metadata": {},
   "outputs": [],
   "source": [
    "import datetime\n",
    "import math\n",
    "import numpy as np\n",
    "import pandas as pd\n",
    "import matplotlib.pyplot as plt\n",
    "import warnings\n",
    "import datetime as dt\n",
    "import yfinance as yf\n",
    "import seaborn as sns\n",
    "from math import log, sqrt, exp\n",
    "from scipy import stats\n",
    "\n",
    "plt.style.use(\"seaborn\")\n",
    "sns.set_style(\"darkgrid\", {\"grid.color\": \".6\", \"grid.linestyle\": \":\"})\n",
    "plt.rcParams[\"figure.figsize\"] = (10, 6)\n",
    "warnings.simplefilter(action=\"ignore\", category=FutureWarning)"
   ]
  },
  {
   "cell_type": "markdown",
   "id": "5b438288-0f63-47bc-83dc-edef3d91d784",
   "metadata": {},
   "source": [
    "***\n",
    "<font size=5> **Common function implementations**</font>\n",
    "\n",
    "Here below are implementations of functions used in this notebook elsewhere."
   ]
  },
  {
   "cell_type": "code",
   "execution_count": 2,
   "id": "b5046a6d-0f86-4aa0-9e8b-57829be24cc9",
   "metadata": {},
   "outputs": [],
   "source": [
    "# ----------------------------------------------------#\n",
    "# Draws plot for given series\n",
    "# ----------------------------------------------------#\n",
    "def draw_plot(series1, xLabel, yLabel, title, series2=None, labels=[]):\n",
    "    fig, ax = plt.subplots()\n",
    "    if len(labels) != 0:\n",
    "        series1.plot(ax=ax, label=labels[0])\n",
    "    else:\n",
    "        series1.plot(ax=ax)\n",
    "    if series2 is not None:\n",
    "        ax2 = ax.twinx()\n",
    "        if len(labels) == 2:\n",
    "            series2.plot(ax=ax2, color=\"orange\", alpha=0.6, label=labels[1])\n",
    "        else:\n",
    "            series2.plot(ax=ax2, color=\"orange\", alpha=0.6)\n",
    "        h1, l1 = ax.get_legend_handles_labels()\n",
    "        h2, l2 = ax2.get_legend_handles_labels()\n",
    "        ax.legend(h1 + h2, l1 + l2, loc=2)\n",
    "\n",
    "    ax.set_xlabel(xLabel, fontsize=14)\n",
    "    ax.set_ylabel(yLabel, fontsize=14)\n",
    "\n",
    "    ax.set_title(title, fontsize=14)\n",
    "    fig.tight_layout()\n",
    "    plt.show()\n",
    "\n",
    "\n",
    "# ----------------------------------------------------#\n",
    "# Fetches stock's current price from Yahoo Finance\n",
    "# ----------------------------------------------------#\n",
    "def get_stock_price(symbol):\n",
    "    tk = yf.Ticker(symbol)\n",
    "    return tk.get_info()[\"currentPrice\"]\n",
    "\n",
    "\n",
    "# ----------------------------------------------------#\n",
    "# Fetches option chain data from Yahoo Finance\n",
    "# ----------------------------------------------------#\n",
    "def get_options_chains(symbol):\n",
    "    tk = yf.Ticker(symbol)\n",
    "    # Expiration dates\n",
    "    exps = tk.options\n",
    "\n",
    "    # Get options for each expiration\n",
    "    options = pd.DataFrame()\n",
    "    for e in exps:\n",
    "        opt = tk.option_chain(e)\n",
    "        opt = pd.DataFrame().append(opt.calls).append(opt.puts)\n",
    "        opt[\"expirationDate\"] = e\n",
    "        options = options.append(opt, ignore_index=True)\n",
    "\n",
    "    # Bizarre error in yfinance that gives the wrong expiration date\n",
    "    # Add 1 day to get the correct expiration date\n",
    "    options[\"expirationDate\"] = pd.to_datetime(\n",
    "        options[\"expirationDate\"]\n",
    "    ) + datetime.timedelta(days=1)\n",
    "    options[\"dte\"] = (\n",
    "        options[\"expirationDate\"] - datetime.datetime.today()\n",
    "    ).dt.days / 365\n",
    "\n",
    "    # Boolean column if the option is a CALL\n",
    "    options[\"CALL\"] = options[\"contractSymbol\"].str[4:].apply(lambda x: \"C\" in x)\n",
    "\n",
    "    options[\"PUT\"] = options[\"contractSymbol\"].str[4:].apply(lambda x: \"P\" in x)\n",
    "\n",
    "    options[[\"bid\", \"ask\", \"strike\"]] = options[[\"bid\", \"ask\", \"strike\"]].apply(\n",
    "        pd.to_numeric\n",
    "    )\n",
    "    options[\"mark\"] = (\n",
    "        options[\"bid\"] + options[\"ask\"]\n",
    "    ) / 2  # Calculate the midpoint of the bid-ask\n",
    "\n",
    "    # Drop unnecessary and meaningless columns\n",
    "    options = options.drop(\n",
    "        columns=[\"contractSize\", \"currency\", \"change\", \"percentChange\", \"lastTradeDate\"]\n",
    "    )\n",
    "\n",
    "    return options\n",
    "\n",
    "\n",
    "# ----------------------------------------------------#\n",
    "# Implementation for Black Scholes model d1\n",
    "# ----------------------------------------------------#\n",
    "def bsm_d1(S, K, T, r, σ):\n",
    "    return (log(S / K) + (r + 0.5 * σ ** 2) * T) / (σ * sqrt(T))\n",
    "\n",
    "\n",
    "# ----------------------------------------------------#\n",
    "# Implementation for Black Scholes model d2\n",
    "# ----------------------------------------------------#\n",
    "def bsm_d2(S, K, T, r, σ):\n",
    "    return (log(S / K) + (r - 0.5 * σ ** 2) * T) / (σ * sqrt(T))\n",
    "\n",
    "\n",
    "# ----------------------------------------------------#\n",
    "# Implementation for Black Scholes model call value\n",
    "# ----------------------------------------------------#\n",
    "def bsm_call_value(S, K, T, r, σ):\n",
    "    S = float(S)\n",
    "    d1 = bsm_d1(S, K, T, r, σ)\n",
    "    d2 = bsm_d2(S, K, T, r, σ)\n",
    "    value = S * stats.norm.cdf(d1, 0.0, 1.0) - K * exp(-r * T) * stats.norm.cdf(\n",
    "        d2, 0.0, 1.0\n",
    "    )\n",
    "    return value\n",
    "\n",
    "\n",
    "# ----------------------------------------------------#\n",
    "# Implementation for Black Scholes model put value\n",
    "# ----------------------------------------------------#\n",
    "def bsm_put_value(S, K, T, r, σ):\n",
    "    S = float(S)\n",
    "    d1 = bsm_d1(S, K, T, r, σ)\n",
    "    d2 = bsm_d2(S, K, T, r, σ)\n",
    "    value = K * exp(-r * T) * stats.norm.cdf(-d2, 0.0, 1.0) - S * stats.norm.cdf(\n",
    "        -d1, 0.0, 1.0\n",
    "    )\n",
    "    return value\n",
    "\n",
    "\n",
    "# ----------------------------------------------------#\n",
    "# Implementation for Black Scholes model call delta value\n",
    "# ----------------------------------------------------#\n",
    "def bsm_call_delta(S, K, T, r, σ):\n",
    "    d1 = bsm_d1(S, K, T, r, σ)\n",
    "    δ = stats.norm.cdf(d1)\n",
    "    return δ\n",
    "\n",
    "\n",
    "# ----------------------------------------------------#\n",
    "# Implementation for Black Scholes model put delta value\n",
    "# ----------------------------------------------------#\n",
    "def bsm_put_delta(S, K, T, r, σ):\n",
    "    d1 = bsm_d1(S, K, T, r, σ)\n",
    "    δ = -1 * stats.norm.cdf(-d1)\n",
    "    return δ\n",
    "\n",
    "\n",
    "# ----------------------------------------------------#\n",
    "# Implementation for Black Scholes model call gamma value\n",
    "# ----------------------------------------------------#\n",
    "def bsm_gamma(S, K, T, r, σ):\n",
    "    d1 = bsm_d1(S, K, T, r, σ)\n",
    "    γ = stats.norm.pdf(d1, 0.0, 1.0) / (S * σ * sqrt(T))\n",
    "    return γ\n",
    "\n",
    "\n",
    "# ----------------------------------------------------#\n",
    "# Implementation for Black Scholes model vega value\n",
    "# ----------------------------------------------------#\n",
    "def bsm_vega(S, K, T, r, σ):\n",
    "    S = float(S)\n",
    "    d1 = bsm_d1(S, K, T, r, σ)\n",
    "    vega = S * stats.norm.pdf(d1, 0.0, 1.0) * sqrt(T)\n",
    "    return vega\n",
    "\n",
    "\n",
    "# ----------------------------------------------------#\n",
    "# Implementation for Black Scholes model call option\n",
    "# implied vol\n",
    "# ----------------------------------------------------#\n",
    "def bsm_call_imp_vol(S, K, T, r, C, σ, it=100):\n",
    "\n",
    "    for i in range(it):\n",
    "        σ -= (bsm_call_value(S, K, T, r, σ) - C) / bsm_vega(S, K, T, r, σ)\n",
    "    return σ\n",
    "\n",
    "\n",
    "# ----------------------------------------------------#\n",
    "# Implementation for Black Scholes model put option\n",
    "# implied vol\n",
    "# ----------------------------------------------------#\n",
    "def bsm_put_imp_vol(S, K, T, r, P, σ, it=100):\n",
    "\n",
    "    for i in range(it):\n",
    "        σ -= (bsm_put_value(S, K, T, r, σ) - P) / bsm_vega(S, K, T, r, σ)\n",
    "    return σ\n",
    "\n",
    "\n",
    "# ----------------------------------------------------#\n",
    "# Implementation for Binomial tree model for option\n",
    "# Returns option value\n",
    "# ----------------------------------------------------#\n",
    "def binomial_tree_option_value(S, K, T, r, σ, amer_euro, call_put, N=1000):\n",
    "    return round(binomial_tree(S, K, T, r, σ, amer_euro, call_put, N)[0], 2)\n",
    "\n",
    "\n",
    "# ----------------------------------------------------#\n",
    "# Implementation for Binomial tree model for option\n",
    "# Returns payoff nodes\n",
    "# ----------------------------------------------------#\n",
    "def binomial_tree_O(S, K, T, r, σ, amer_euro, call_put, N=1000):\n",
    "    return binomial_tree(S, K, T, r, σ, amer_euro, call_put, N)[1]\n",
    "\n",
    "\n",
    "# ----------------------------------------------------#\n",
    "# Implementation for Binomial tree model for option\n",
    "# Returns underlying value nodes\n",
    "# ----------------------------------------------------#\n",
    "def binomial_tree_S(S, K, T, r, σ, amer_euro, call_put, N=1000):\n",
    "    return binomial_tree(S, K, T, r, σ, amer_euro, call_put, N)[2]\n",
    "\n",
    "\n",
    "# ----------------------------------------------------#\n",
    "# Implementation for Binomial tree model for option\n",
    "# Returns delta value nodes\n",
    "# ----------------------------------------------------#\n",
    "def binomial_tree_δ(S, K, T, r, σ, amer_euro, call_put, N=1000):\n",
    "    return round(binomial_tree(S, K, T, r, σ, amer_euro, call_put, N)[3][0, 0], 4)\n",
    "\n",
    "\n",
    "# ----------------------------------------------------#\n",
    "# Implementation for Binomial tree model for option\n",
    "# Returns gamma value\n",
    "# ----------------------------------------------------#\n",
    "def binomial_tree_γ(S, K, T, r, σ, amer_euro, call_put, N=1000):\n",
    "    return round(binomial_tree(S, K, T, r, σ, amer_euro, call_put, N)[4], 4)\n",
    "\n",
    "\n",
    "# ----------------------------------------------------#\n",
    "# Implementation for Binomial tree model for option\n",
    "# ----------------------------------------------------#\n",
    "def binomial_tree(S0, K, T, r, σ, amer_euro, call_put, N=1000):\n",
    "    dt = T / N  # Define time-step\n",
    "    u = np.exp(σ * np.sqrt(dt))  # Define u\n",
    "    d = np.exp(-σ * np.sqrt(dt))  # Define d\n",
    "    p = (np.exp(r * dt) - d) / (u - d)  # Risk neutral probabilities (probs)\n",
    "    O = np.zeros([N + 1, N + 1])  # option price\n",
    "    S = np.zeros([N + 1, N + 1])  # Underlying price\n",
    "    δ = np.zeros([N, N])  # delta\n",
    "\n",
    "    S[0, 0] = S0  # Initialize the root\n",
    "    for column in range(0, N + 1):\n",
    "        for row in range(\n",
    "            column, N\n",
    "        ):  # Keep going diagonally starting from previous column\n",
    "            S[row + 1, column] = S[row, column] * d  # Assign down move in matrix cell\n",
    "            S[row + 1, column + 1] = S[row, column] * u  # Assign up move in matrix cell\n",
    "        # Calculate call option at terminal values for underlying\n",
    "        if call_put == \"c\" or call_put == \"C\":\n",
    "            O[N, column] = max(S[N, column] - K, 0)\n",
    "        else:\n",
    "            O[N, column] = max(K - S[N, column], 0)\n",
    "    # Backward induction for call option pricing\n",
    "    for row in range(N - 1, -1, -1):\n",
    "        for column in range(row, -1, -1):\n",
    "            O[row, column] = np.exp(-r * dt) * (\n",
    "                p * O[row + 1, column + 1] + (1 - p) * O[row + 1, column]\n",
    "            )\n",
    "            # Handle American option here\n",
    "            if amer_euro == \"a\" or amer_euro == \"A\":\n",
    "                if call_put == \"c\" or call_put == \"C\":\n",
    "                    O[row, column] = max(O[row, column], S[row, column] - K)\n",
    "                else:\n",
    "                    O[row, column] = max(O[row, column], K - S[row, column])\n",
    "            δ[row, column] = (O[row + 1, column + 1] - O[row + 1, column]) / (\n",
    "                S[row + 1, column + 1] - S[row + 1, column]\n",
    "            )\n",
    "\n",
    "    # Calculate gamma\n",
    "    γ = (δ[1, 1] - δ[1, 0]) / (S[1, 1] - S[1, 0])\n",
    "    return O[0, 0], O, S, δ, γ"
   ]
  },
  {
   "cell_type": "markdown",
   "id": "1dbf601a-f8f8-4eb6-a1aa-b20294a7ceac",
   "metadata": {},
   "source": [
    "***\n",
    "# Questions 5 to 7\n",
    "***"
   ]
  },
  {
   "cell_type": "markdown",
   "id": "f1369a7a-02f3-45f0-b1ed-188b4d6235e5",
   "metadata": {},
   "source": [
    ">Set given variables globally here. These variables will be shared for questions below:"
   ]
  },
  {
   "cell_type": "code",
   "execution_count": 3,
   "id": "70f9cad5-30e0-4e4b-b60f-364c3e59219c",
   "metadata": {},
   "outputs": [],
   "source": [
    "MONTHS_IN_YEAR = 12\n",
    "S0 = 100  # Underlying price\n",
    "K = 100  # Option Strike\n",
    "r = 0.05  # Risk-free rate\n",
    "σ = 0.20  # Volatility\n",
    "t = 3 / MONTHS_IN_YEAR  # Time to option expiration"
   ]
  },
  {
   "cell_type": "markdown",
   "id": "484587f5-c2ce-47c4-847c-b00166606093",
   "metadata": {},
   "source": [
    "***\n",
    ">_5. Price an ATM European call and put using Black-Scholes._"
   ]
  },
  {
   "cell_type": "markdown",
   "id": "2abd95eb-f12c-4f3b-b7e2-2917e09f5cde",
   "metadata": {},
   "source": [
    ">Call option using BSM:"
   ]
  },
  {
   "cell_type": "code",
   "execution_count": 4,
   "id": "bd6b1502-7a1a-4b90-809a-c7d81838190f",
   "metadata": {},
   "outputs": [
    {
     "name": "stdout",
     "output_type": "stream",
     "text": [
      "Call option value using Black-Scholes is: $4.61\n"
     ]
    }
   ],
   "source": [
    "call_bsm_value = bsm_call_value(S0, K, t, r, σ)\n",
    "print(f\"Call option value using Black-Scholes is: ${round(call_bsm_value,2)}\")"
   ]
  },
  {
   "cell_type": "markdown",
   "id": "79a472c1-f026-42ac-ac49-95185240cd2b",
   "metadata": {},
   "source": [
    ">Put option using BSM:"
   ]
  },
  {
   "cell_type": "code",
   "execution_count": 5,
   "id": "3c86470c-47df-4016-a108-552e1af0bb10",
   "metadata": {},
   "outputs": [
    {
     "name": "stdout",
     "output_type": "stream",
     "text": [
      "Put option value using Black-Scholes is: $3.37\n"
     ]
    }
   ],
   "source": [
    "put_bsm_value = bsm_put_value(S0, K, t, r, σ)\n",
    "print(f\"Put option value using Black-Scholes is: ${round(put_bsm_value,2)}\")"
   ]
  },
  {
   "cell_type": "markdown",
   "id": "721a5733-6962-43bf-8a4f-aaf3abba1191",
   "metadata": {},
   "source": [
    "***\n",
    ">_6. Compute the Greek Delta for the European call and European put. How do they compare?_\n",
    "\n",
    ">>Delta for call options is position while for put options is negative."
   ]
  },
  {
   "cell_type": "markdown",
   "id": "d503bb10-4bf4-43b6-b7f9-de3c55a7abfc",
   "metadata": {},
   "source": [
    "> Delta for Call option using BSM:"
   ]
  },
  {
   "cell_type": "code",
   "execution_count": 6,
   "id": "ab9107e1-0285-4b45-9666-d8b7622d5913",
   "metadata": {},
   "outputs": [
    {
     "name": "stdout",
     "output_type": "stream",
     "text": [
      "Call option delta using Black-Scholes is: 0.5695\n"
     ]
    }
   ],
   "source": [
    "call_bsm_delta = bsm_call_delta(S0, K, t, r, σ)\n",
    "print(f\"Call option delta using Black-Scholes is: {round(call_bsm_delta,4)}\")"
   ]
  },
  {
   "cell_type": "markdown",
   "id": "ac138851-f0d4-4a0e-ba1d-33a89456bc99",
   "metadata": {},
   "source": [
    ">Delta for Put option using BSM:"
   ]
  },
  {
   "cell_type": "code",
   "execution_count": 7,
   "id": "28951fa7-9d63-44da-a06d-6505291254ff",
   "metadata": {},
   "outputs": [
    {
     "name": "stdout",
     "output_type": "stream",
     "text": [
      "Put option delta using Black-Scholes is: -0.4305\n"
     ]
    }
   ],
   "source": [
    "put_bsm_delta = bsm_put_delta(S0, K, t, r, σ)\n",
    "print(f\"Put option delta using Black-Scholes is: {round(put_bsm_delta,4)}\")"
   ]
  },
  {
   "cell_type": "markdown",
   "id": "134b0d9f-2d8d-481e-bb96-58cdce96b79b",
   "metadata": {},
   "source": [
    "***\n",
    ">_7. Compute the Greek Gamma for the European call and European put. How do they compare?_\n",
    "\n",
    ">>Gamma for both call and put European options is the same."
   ]
  },
  {
   "cell_type": "markdown",
   "id": "88e528b1-1d07-4e30-b373-b78a5c5c96be",
   "metadata": {},
   "source": [
    "> Gamma for Call and Put option using BSM:"
   ]
  },
  {
   "cell_type": "code",
   "execution_count": 8,
   "id": "228528c0-e834-4b1f-8332-70d672075000",
   "metadata": {},
   "outputs": [
    {
     "name": "stdout",
     "output_type": "stream",
     "text": [
      "Call and Put option gamma using Black-Scholes is: 0.0393\n"
     ]
    }
   ],
   "source": [
    "call_put_bsm_gamma = bsm_gamma(S0, K, t, r, σ)\n",
    "print(\n",
    "    f\"Call and Put option gamma using Black-Scholes is: {round(call_put_bsm_gamma,4)}\"\n",
    ")"
   ]
  },
  {
   "cell_type": "markdown",
   "id": "eee8ee2f-d468-4d9c-8a9c-e87b36b38902",
   "metadata": {},
   "source": [
    "*** \n",
    "# Questions 8 to 10\n",
    "***"
   ]
  },
  {
   "cell_type": "markdown",
   "id": "d4a5f59f-c10e-4f5c-9a64-5054cdad65ff",
   "metadata": {},
   "source": [
    ">_8. Price an ATM American call and put using a binomial tree._"
   ]
  },
  {
   "cell_type": "markdown",
   "id": "eddd1a1f-7e4f-4910-a13b-a02ec0dbb65d",
   "metadata": {},
   "source": [
    ">American call option using binomial tree:"
   ]
  },
  {
   "cell_type": "code",
   "execution_count": 9,
   "id": "1a126e04-37fa-4fd8-bc33-f3db12fc23b5",
   "metadata": {},
   "outputs": [
    {
     "name": "stdout",
     "output_type": "stream",
     "text": [
      "Call option value using binomial tree is: $4.61\n"
     ]
    }
   ],
   "source": [
    "american_or_european = \"A\"\n",
    "call_or_put = \"C\"\n",
    "price = binomial_tree_option_value(S0, K, t, r, σ, american_or_european, call_or_put)\n",
    "print(f\"Call option value using binomial tree is: ${price}\")"
   ]
  },
  {
   "cell_type": "markdown",
   "id": "01e9fc3e-2bf6-4e24-9224-23c6612fb104",
   "metadata": {},
   "source": [
    ">American put option using binomial tree:"
   ]
  },
  {
   "cell_type": "code",
   "execution_count": 10,
   "id": "9bac105f-0442-4e0e-adb4-7e80e3fd9a7a",
   "metadata": {},
   "outputs": [
    {
     "name": "stdout",
     "output_type": "stream",
     "text": [
      "Put option value using binomial tree is: $3.48\n"
     ]
    }
   ],
   "source": [
    "american_or_european = \"A\"\n",
    "call_or_put = \"P\"\n",
    "price = binomial_tree_option_value(S0, K, t, r, σ, american_or_european, call_or_put)\n",
    "print(f\"Put option value using binomial tree is: ${price}\")"
   ]
  },
  {
   "cell_type": "markdown",
   "id": "f8a96e4c-a097-4f87-8598-ceca7677c5d0",
   "metadata": {},
   "source": [
    "***\n",
    ">_9. Compute the Greek delta for the American call and American put. How do they compare?_\n",
    "\n",
    ">>Delta for call options is positive while for put options is negative."
   ]
  },
  {
   "cell_type": "markdown",
   "id": "06435be7-dd30-49be-b120-f0f460688da3",
   "metadata": {},
   "source": [
    ">American call option delta using binomial tree:"
   ]
  },
  {
   "cell_type": "code",
   "execution_count": 11,
   "id": "5d98e44d-86e7-42a6-b4d8-e3adc1c98780",
   "metadata": {},
   "outputs": [
    {
     "name": "stdout",
     "output_type": "stream",
     "text": [
      "Call option delta using binomial tree is: 0.5694\n"
     ]
    }
   ],
   "source": [
    "american_or_european = 'A'\n",
    "call_or_put = 'C'\n",
    "δ = binomial_tree_δ(S0, K, t, r, σ, american_or_european, call_or_put)\n",
    "print(f\"Call option delta using binomial tree is: {δ}\")"
   ]
  },
  {
   "cell_type": "markdown",
   "id": "d90e805d-4add-41b0-a292-9829f9466203",
   "metadata": {},
   "source": [
    ">American put option delta using binomial tree:"
   ]
  },
  {
   "cell_type": "code",
   "execution_count": 12,
   "id": "e05611f5-ef01-4582-bbba-9b32eb5b160c",
   "metadata": {},
   "outputs": [
    {
     "name": "stdout",
     "output_type": "stream",
     "text": [
      "Put option delta using binomial tree is: -0.4495\n"
     ]
    }
   ],
   "source": [
    "american_or_european = 'A'\n",
    "call_or_put = 'P'\n",
    "δ = binomial_tree_δ(S0, K, t, r, σ, american_or_european, call_or_put)\n",
    "print(f\"Put option delta using binomial tree is: {δ}\")"
   ]
  },
  {
   "cell_type": "markdown",
   "id": "d8fbf8fa-a62b-4eac-a5cd-d35c8451fc0b",
   "metadata": {},
   "source": [
    "***\n",
    ">_10. Compute the Greek gamma for the American call and American put. How do they compare?_\n",
    ">> We observe gamma for both call and put to be positive but a relatively small number."
   ]
  },
  {
   "cell_type": "markdown",
   "id": "453226c9-a507-4eee-9f43-57c69faf90c7",
   "metadata": {},
   "source": [
    ">American call option gamma using binomial tree:"
   ]
  },
  {
   "cell_type": "code",
   "execution_count": 13,
   "id": "86f294ae-d834-437d-83d0-27da02e30f62",
   "metadata": {},
   "outputs": [
    {
     "name": "stdout",
     "output_type": "stream",
     "text": [
      "Call option gamma using binomial tree is: 0.0393\n"
     ]
    }
   ],
   "source": [
    "american_or_european = \"A\"\n",
    "call_or_put = \"C\"\n",
    "γ = binomial_tree_γ(S0, K, t, r, σ, american_or_european, call_or_put)\n",
    "print(f\"Call option gamma using binomial tree is: {γ}\")"
   ]
  },
  {
   "cell_type": "markdown",
   "id": "bdf15edb-ce5c-4f6e-8570-a0f4705b88f4",
   "metadata": {},
   "source": [
    ">American put option delta using binomial tree:"
   ]
  },
  {
   "cell_type": "code",
   "execution_count": 14,
   "id": "11685814-b9c5-45fc-8ca4-6cfc298116e1",
   "metadata": {},
   "outputs": [
    {
     "name": "stdout",
     "output_type": "stream",
     "text": [
      "put option gamma using binomial tree is: 0.0423\n"
     ]
    }
   ],
   "source": [
    "american_or_european = \"A\"\n",
    "call_or_put = \"P\"\n",
    "γ = binomial_tree_γ(S0, K, t, r, σ, american_or_european, call_or_put)\n",
    "print(f\"put option gamma using binomial tree is: {γ}\")"
   ]
  },
  {
   "cell_type": "markdown",
   "id": "b18d535e-3be2-4ea2-9e1c-ce265e5bf9dc",
   "metadata": {},
   "source": [
    "*** \n",
    "# Questions 11 to 14\n",
    "***"
   ]
  },
  {
   "cell_type": "markdown",
   "id": "c1ef29f1-c345-4308-9f71-766f353342f7",
   "metadata": {},
   "source": [
    ">_11. If the team answered Question 1 as “Yes”, then show that the European call and put satisfy put-call parity._"
   ]
  },
  {
   "cell_type": "markdown",
   "id": "df98f67a-3c9d-4ffa-bf43-50817c84236d",
   "metadata": {},
   "source": [
    "Put call parity equation is:\n",
    "\n",
    "$$c + K e^{-rt} = S_0 + p$$\n"
   ]
  },
  {
   "cell_type": "code",
   "execution_count": 15,
   "id": "a16dbc86-03fc-40b0-8376-819e28196bb3",
   "metadata": {},
   "outputs": [
    {
     "name": "stdout",
     "output_type": "stream",
     "text": [
      "Left-hand side for put call parity for European option is: $103.37.\n",
      "Right-hand side for put call parity for European option is: $103.37.\n",
      "Put call parity for European option holds: True.\n"
     ]
    }
   ],
   "source": [
    "c = bsm_call_value(S0, K, t, r, σ)\n",
    "p = bsm_put_value(S0, K, t, r, σ)\n",
    "\n",
    "print(\n",
    "    f\"Left-hand side for put call parity for European option is: ${round(c + K * exp(-r*t),2)}.\"\n",
    ")\n",
    "print(\n",
    "    f\"Right-hand side for put call parity for European option is: ${round((S0 + p),2)}.\"\n",
    ")\n",
    "print(\n",
    "    f\"Put call parity for European option holds: {round(c + K * exp(-r*t),2) == round(S0 + p,2)}.\"\n",
    ")"
   ]
  },
  {
   "cell_type": "markdown",
   "id": "8361bc65-6a93-4f97-90b6-eb71a8de6293",
   "metadata": {},
   "source": [
    "***\n",
    ">_12. If the team answered Question 4 as “Yes”, then show that the American call and put satisfy put-call parity._\n",
    "\n",
    ">>Put call parity does not hold for American options due to early exercise feature of these type of options. \n",
    "\n",
    ">>Put call parity equation is:\n",
    "\n",
    "$$c + K e^{-rt} = S_0 + p$$\n"
   ]
  },
  {
   "cell_type": "code",
   "execution_count": 16,
   "id": "a84551bd-ed17-43ef-b6a4-873f4830f6c6",
   "metadata": {},
   "outputs": [
    {
     "name": "stdout",
     "output_type": "stream",
     "text": [
      "Left-hand side for put call parity for American option is: $103.37.\n",
      "Right-hand side for put call parity for American option is: $103.48.\n",
      "Put call parity for American option holds: False.\n"
     ]
    }
   ],
   "source": [
    "american_or_european = \"A\"\n",
    "call = \"C\"\n",
    "c = binomial_tree_option_value(S0, K, t, r, σ, american_or_european, call)\n",
    "put = \"P\"\n",
    "p = binomial_tree_option_value(S0, K, t, r, σ, american_or_european, put)\n",
    "\n",
    "print(\n",
    "    f\"Left-hand side for put call parity for American option is: ${round(c + K * exp(-r*t),2)}.\"\n",
    ")\n",
    "print(\n",
    "    f\"Right-hand side for put call parity for American option is: ${round((S0 + p),4)}.\"\n",
    ")\n",
    "print(\n",
    "    f\"Put call parity for American option holds: {round(c + K * exp(-r*t),2) == round(S0 + p,2)}.\"\n",
    ")"
   ]
  },
  {
   "cell_type": "markdown",
   "id": "f20d7a2f-53b7-4f34-ae2b-b835bb1d6497",
   "metadata": {},
   "source": [
    "***\n",
    ">_13. Confirm that the European call is less than or equal to the American call. Show the difference if any._"
   ]
  },
  {
   "cell_type": "code",
   "execution_count": 17,
   "id": "005229dc-6d08-44ab-909a-57c4f70caada",
   "metadata": {},
   "outputs": [
    {
     "name": "stdout",
     "output_type": "stream",
     "text": [
      "Value of European call option is: $4.61\n",
      "Value of American call option is: $4.61\n",
      "Value of European call option is equal to American call:    True\n",
      "Difference between prices of two options is: $0.0\n"
     ]
    }
   ],
   "source": [
    "# Get call value for eurpean call option using Black-Scholes model\n",
    "european_option_value = round(bsm_call_value(S0, K, t, r, σ), 2)\n",
    "# Get call value for american call option using Binomial tree\n",
    "american_or_european = \"A\"\n",
    "call = \"C\"\n",
    "american_option_value = binomial_tree_option_value(\n",
    "    S0, K, t, r, σ, american_or_european, call\n",
    ")\n",
    "print(f\"Value of European call option is: ${european_option_value}\")\n",
    "print(f\"Value of American call option is: ${american_option_value}\")\n",
    "print(\n",
    "    f\"Value of European call option is equal to American call:\\\n",
    "    {european_option_value == american_option_value}\"\n",
    ")\n",
    "print(\n",
    "    f\"Difference between prices of two options is: ${round(american_option_value - european_option_value,2)}\"\n",
    ")"
   ]
  },
  {
   "cell_type": "markdown",
   "id": "dbe059f8-f6db-4d54-8210-11492c5a329d",
   "metadata": {},
   "source": [
    "***\n",
    ">_14. Confirm that the European put is less than or equal to the American put. Show the difference if any._"
   ]
  },
  {
   "cell_type": "code",
   "execution_count": 18,
   "id": "1e29f003-f091-4369-aead-9be7994b5847",
   "metadata": {},
   "outputs": [
    {
     "name": "stdout",
     "output_type": "stream",
     "text": [
      "Value of European put option is: $3.37\n",
      "Value of American put option is: $3.48\n",
      "Value of European put option is less than American put: True\n",
      "Difference between prices of two options is: $0.11\n"
     ]
    }
   ],
   "source": [
    "# Get call value for eurpean put option using Black-Scholes model\n",
    "european_option_value = round(bsm_put_value(S0, K, t, r, σ), 2)\n",
    "# Get call value for american put option using Binomial tree\n",
    "american_or_european = \"A\"\n",
    "call = \"P\"\n",
    "american_option_value = binomial_tree_option_value(\n",
    "    S0, K, t, r, σ, american_or_european, call\n",
    ")\n",
    "print(f\"Value of European put option is: ${european_option_value}\")\n",
    "print(f\"Value of American put option is: ${american_option_value}\")\n",
    "print(\n",
    "    f\"Value of European put option is less than American put: {european_option_value < american_option_value}\"\n",
    ")\n",
    "print(\n",
    "    f\"Difference between prices of two options is: ${american_option_value - european_option_value:.2f}\"\n",
    ")"
   ]
  },
  {
   "cell_type": "markdown",
   "id": "a17d311e-bb0f-49d9-b39f-bae9f273a097",
   "metadata": {},
   "source": [
    "***\n",
    "<font size=5> **Step 2:**</font>"
   ]
  },
  {
   "cell_type": "markdown",
   "id": "4b4c65da-6235-4ddc-ab74-225136ad11b3",
   "metadata": {},
   "source": [
    "_NOTE: For questions 15 to 22, keep the stock price fixed at 100._"
   ]
  },
  {
   "cell_type": "markdown",
   "id": "029c61d7-b599-4196-bdbb-084e8a5c7f45",
   "metadata": {},
   "source": [
    "# Questions 15 to 18\n",
    "***"
   ]
  },
  {
   "cell_type": "markdown",
   "id": "faabb994-315c-4c53-9d97-d39f406c7e72",
   "metadata": {},
   "source": [
    ">_15. Use a strike level so that calls are ITM and puts are OTM._\n",
    ">>_a) Price an American call and put using a binomial tree._ \\\n",
    ">>_b) Compute the Greek delta for the American call and American put. How do they compare?_ \\\n",
    ">>_c) Compute the Greek gamma for the American call and American put. How do they compare?_ "
   ]
  },
  {
   "cell_type": "markdown",
   "id": "c16632b6-9f92-4079-b549-257afbb9828a",
   "metadata": {},
   "source": [
    "Set strike prices for ITM (in-the-money) call & OTM (out-of-the-money) put options:"
   ]
  },
  {
   "cell_type": "code",
   "execution_count": 19,
   "id": "e0419355-9d45-451b-9a9f-d79cd0891b0e",
   "metadata": {},
   "outputs": [],
   "source": [
    "S0 = 100\n",
    "K_call_itm = K_put_otm = 90"
   ]
  },
  {
   "cell_type": "markdown",
   "id": "70a1e950-e9fd-4400-934f-a4e2c7996f55",
   "metadata": {},
   "source": [
    "***\n",
    "**Option prices:**"
   ]
  },
  {
   "cell_type": "markdown",
   "id": "393626fc-8033-4555-8be1-ab03050e2ecc",
   "metadata": {},
   "source": [
    "Price ITM American call option using binomial tree:"
   ]
  },
  {
   "cell_type": "code",
   "execution_count": 20,
   "id": "960ba566-c613-422e-96b5-fad6490fff9e",
   "metadata": {},
   "outputs": [
    {
     "name": "stdout",
     "output_type": "stream",
     "text": [
      "Call option value using binomial tree is: $11.67\n"
     ]
    }
   ],
   "source": [
    "american_or_european = \"A\"\n",
    "call_or_put = \"C\"\n",
    "price = binomial_tree_option_value(\n",
    "    S0, K_call_itm, t, r, σ, american_or_european, call_or_put\n",
    ")\n",
    "print(f\"Call option value using binomial tree is: ${price}\")"
   ]
  },
  {
   "cell_type": "markdown",
   "id": "1d6b838e-8f3d-4763-97b2-38045b9eaa98",
   "metadata": {},
   "source": [
    "Price OTM American put option using binomial tree:"
   ]
  },
  {
   "cell_type": "code",
   "execution_count": 21,
   "id": "fd7ec8fe-114c-49a2-bd20-43af3a4950cc",
   "metadata": {},
   "outputs": [
    {
     "name": "stdout",
     "output_type": "stream",
     "text": [
      "Put option value using binomial tree is: $0.56\n"
     ]
    }
   ],
   "source": [
    "american_or_european = \"A\"\n",
    "call_or_put = \"P\"\n",
    "price = binomial_tree_option_value(\n",
    "    S0, K_put_otm, t, r, σ, american_or_european, call_or_put\n",
    ")\n",
    "print(f\"Put option value using binomial tree is: ${price}\")"
   ]
  },
  {
   "cell_type": "markdown",
   "id": "254eebf0-1069-4496-9a4f-19fa4403859c",
   "metadata": {},
   "source": [
    "***\n",
    "**Option delta:**\n",
    "\n",
    "> We observe delta for ITM call option is positive while OTM put option has negative delta. "
   ]
  },
  {
   "cell_type": "markdown",
   "id": "e83b6379-fd6b-4e5f-bad8-01d8bd1f2ae9",
   "metadata": {},
   "source": [
    "American call option delta using binomial tree:"
   ]
  },
  {
   "cell_type": "code",
   "execution_count": 22,
   "id": "c448e5ac-716e-4786-ba35-b4d63c4a3730",
   "metadata": {},
   "outputs": [
    {
     "name": "stdout",
     "output_type": "stream",
     "text": [
      "Call option delta using binomial tree is: 0.8904\n"
     ]
    }
   ],
   "source": [
    "american_or_european = 'A'\n",
    "call_or_put = 'C'\n",
    "δ = binomial_tree_δ(S0, K_call_itm, t, r, σ, american_or_european, call_or_put)\n",
    "print(f\"Call option delta using binomial tree is: {δ}\")"
   ]
  },
  {
   "cell_type": "markdown",
   "id": "46f6d35a-86b0-4e77-b081-e19f82c01574",
   "metadata": {},
   "source": [
    "American put option delta using binomial tree:"
   ]
  },
  {
   "cell_type": "code",
   "execution_count": 23,
   "id": "531a45cb-6e8f-4417-8056-53546e308dbb",
   "metadata": {},
   "outputs": [
    {
     "name": "stdout",
     "output_type": "stream",
     "text": [
      "Put option delta using binomial tree is: -0.1122\n"
     ]
    }
   ],
   "source": [
    "american_or_european = 'A'\n",
    "call_or_put = 'P'\n",
    "δ = binomial_tree_δ(S0, K_put_otm, t, r, σ, american_or_european, call_or_put)\n",
    "print(f\"Put option delta using binomial tree is: {δ}\")"
   ]
  },
  {
   "cell_type": "markdown",
   "id": "b037e97a-02cf-4a2c-8551-24f02d2cdc3c",
   "metadata": {},
   "source": [
    "***\n",
    "**Option gamma:**\n",
    "\n",
    "> We observe positive gamma for both ITM call and OTM put options."
   ]
  },
  {
   "cell_type": "markdown",
   "id": "377e504e-8c33-4be2-be56-1fc1611b0ba7",
   "metadata": {},
   "source": [
    "American call option gamma using binomial tree:"
   ]
  },
  {
   "cell_type": "code",
   "execution_count": 24,
   "id": "fca1f85d-512a-4ad2-bee1-7afac5672f1b",
   "metadata": {},
   "outputs": [
    {
     "name": "stdout",
     "output_type": "stream",
     "text": [
      "Call option gamma using binomial tree is: 0.0188\n"
     ]
    }
   ],
   "source": [
    "american_or_european = \"A\"\n",
    "call_or_put = \"C\"\n",
    "γ = binomial_tree_γ(S0, K_call_itm, t, r, σ, american_or_european, call_or_put)\n",
    "print(f\"Call option gamma using binomial tree is: {γ}\")"
   ]
  },
  {
   "cell_type": "markdown",
   "id": "f29bcbb8-a1b9-4ceb-8d25-69f5892e4f5b",
   "metadata": {},
   "source": [
    "American put option gamma using binomial tree:"
   ]
  },
  {
   "cell_type": "code",
   "execution_count": 25,
   "id": "c79937b3-6c2c-4daa-ae8c-36a666976b84",
   "metadata": {},
   "outputs": [
    {
     "name": "stdout",
     "output_type": "stream",
     "text": [
      "Put option gamma using binomial tree is: 0.0193\n"
     ]
    }
   ],
   "source": [
    "american_or_european = \"A\"\n",
    "call_or_put = \"P\"\n",
    "γ = binomial_tree_γ(S0, K_put_otm, t, r, σ, american_or_european, call_or_put)\n",
    "print(f\"Put option gamma using binomial tree is: {γ}\")"
   ]
  },
  {
   "cell_type": "markdown",
   "id": "ac5c5f2a-9d61-4d53-8697-5cd6471ce49f",
   "metadata": {},
   "source": [
    "***\n",
    ">16. Use another strike level so that calls are deep ITM and puts are deep OTM.\n",
    ">>_a) Price an American call and put using a binomial tree._ \\\n",
    ">>_b) Compute the Greek delta for the American call and American put. How do they compare?_ \\\n",
    ">>_c) Compute the Greek gamma for the American call and American put. How do they compare?_ "
   ]
  },
  {
   "cell_type": "markdown",
   "id": "29b54bda-df2b-4d26-9d0a-a5bce4ac376e",
   "metadata": {},
   "source": [
    "Set strike prices for deep ITM (in-the-money) calls & deep OTM (out-of-the-money) put options:"
   ]
  },
  {
   "cell_type": "code",
   "execution_count": 26,
   "id": "e8815a36-71eb-4b94-9b75-557a9d8c7f3f",
   "metadata": {},
   "outputs": [],
   "source": [
    "S0 = 100\n",
    "K_call_deep_itm = K_put_deep_otm = 80"
   ]
  },
  {
   "cell_type": "markdown",
   "id": "216ddb4e-8f14-4296-be56-ee0ed19bbff5",
   "metadata": {},
   "source": [
    "***\n",
    "**Option prices:**"
   ]
  },
  {
   "cell_type": "markdown",
   "id": "184983a5-3c3e-4700-aa53-c30b7eddeeb8",
   "metadata": {},
   "source": [
    "Price deep ITM American call option using binomial tree:"
   ]
  },
  {
   "cell_type": "code",
   "execution_count": 27,
   "id": "98a33eec-3cba-4964-a306-09f00f1d9004",
   "metadata": {},
   "outputs": [
    {
     "name": "stdout",
     "output_type": "stream",
     "text": [
      "Call option value using binomial tree is: $21.02\n"
     ]
    }
   ],
   "source": [
    "american_or_european = \"A\"\n",
    "call_or_put = \"C\"\n",
    "price = binomial_tree_option_value(\n",
    "    S0, K_call_deep_itm, t, r, σ, american_or_european, call_or_put\n",
    ")\n",
    "print(f\"Call option value using binomial tree is: ${price}\")"
   ]
  },
  {
   "cell_type": "markdown",
   "id": "78cb96f0-dc13-4f91-bf31-4ddef546a9f7",
   "metadata": {},
   "source": [
    "Price deep OTM American put option using binomial tree:"
   ]
  },
  {
   "cell_type": "code",
   "execution_count": 28,
   "id": "82bfd9b3-f975-4b8c-8050-6f4b6ffa4dc6",
   "metadata": {},
   "outputs": [
    {
     "name": "stdout",
     "output_type": "stream",
     "text": [
      "Put option value using binomial tree is: $0.03\n"
     ]
    }
   ],
   "source": [
    "american_or_european = \"A\"\n",
    "call_or_put = \"P\"\n",
    "price = binomial_tree_option_value(\n",
    "    S0, K_put_deep_otm, t, r, σ, american_or_european, call_or_put\n",
    ")\n",
    "print(f\"Put option value using binomial tree is: ${price}\")"
   ]
  },
  {
   "cell_type": "markdown",
   "id": "7fe9a0d5-4271-4860-8cab-cd3e14184b14",
   "metadata": {},
   "source": [
    "***\n",
    "**Option delta:**\n",
    "> We observe delta for deep ITM call option to be approaching close to 1 and that off deep OTM put option to be getting close to 0."
   ]
  },
  {
   "cell_type": "markdown",
   "id": "cc737d8f-3d87-49ce-ae5f-445437110456",
   "metadata": {},
   "source": [
    "American deep ITM call option delta using binomial tree:"
   ]
  },
  {
   "cell_type": "code",
   "execution_count": 29,
   "id": "302e14f1-8b21-4d52-83bb-443946e53389",
   "metadata": {},
   "outputs": [
    {
     "name": "stdout",
     "output_type": "stream",
     "text": [
      "Call option delta using binomial tree is: 0.992\n"
     ]
    }
   ],
   "source": [
    "american_or_european = 'A'\n",
    "call_or_put = 'C'\n",
    "δ = binomial_tree_δ(S0, K_call_deep_itm, t, r, σ, american_or_european, call_or_put)\n",
    "print(f\"Call option delta using binomial tree is: {δ}\")"
   ]
  },
  {
   "cell_type": "markdown",
   "id": "67bae01e-1849-4b94-bca2-aecb0aa44bae",
   "metadata": {},
   "source": [
    "American deep OTM put option delta using binomial tree:"
   ]
  },
  {
   "cell_type": "code",
   "execution_count": 30,
   "id": "2053cc94-95f3-42dd-82cc-7f9188be7175",
   "metadata": {},
   "outputs": [
    {
     "name": "stdout",
     "output_type": "stream",
     "text": [
      "Put option delta using binomial tree is: -0.0081\n"
     ]
    }
   ],
   "source": [
    "american_or_european = 'A'\n",
    "call_or_put = 'P'\n",
    "δ = binomial_tree_δ(S0, K_put_deep_otm, t, r, σ, american_or_european, call_or_put)\n",
    "print(f\"Put option delta using binomial tree is: {δ}\")"
   ]
  },
  {
   "cell_type": "markdown",
   "id": "242842cb-8ce7-4f43-9ed7-694946564e6b",
   "metadata": {},
   "source": [
    "***\n",
    "**Option gamma:**\n",
    "> We observe gamma for both deep ITM call and deep OTM put option to be very small albeit positive."
   ]
  },
  {
   "cell_type": "markdown",
   "id": "524df332-bd80-4fb7-8fe4-4b4b252c3afa",
   "metadata": {},
   "source": [
    "American deep ITM call option gamma using binomial tree:"
   ]
  },
  {
   "cell_type": "code",
   "execution_count": 31,
   "id": "193f84db-d9e5-46ac-84d6-8c7a9e1d5b61",
   "metadata": {},
   "outputs": [
    {
     "name": "stdout",
     "output_type": "stream",
     "text": [
      "Call option gamma using binomial tree is: 0.0022\n"
     ]
    }
   ],
   "source": [
    "american_or_european = \"A\"\n",
    "call_or_put = \"C\"\n",
    "γ = binomial_tree_γ(S0, K_call_deep_itm, t, r, σ, american_or_european, call_or_put)\n",
    "print(f\"Call option gamma using binomial tree is: {γ}\")"
   ]
  },
  {
   "cell_type": "markdown",
   "id": "f28d7baa-5755-48d4-9ff0-ad49054b041f",
   "metadata": {},
   "source": [
    "American deep OTM put option gamma using binomial tree:"
   ]
  },
  {
   "cell_type": "code",
   "execution_count": 32,
   "id": "d7db83b8-8341-4daa-893c-43071c1547a7",
   "metadata": {},
   "outputs": [
    {
     "name": "stdout",
     "output_type": "stream",
     "text": [
      "Put option gamma using binomial tree is: 0.0022\n"
     ]
    }
   ],
   "source": [
    "american_or_european = \"A\"\n",
    "call_or_put = \"P\"\n",
    "γ = binomial_tree_γ(S0, K_put_deep_otm, t, r, σ, american_or_european, call_or_put)\n",
    "print(f\"Put option gamma using binomial tree is: {γ}\")"
   ]
  },
  {
   "cell_type": "markdown",
   "id": "cbf5ed5c-75b9-4676-9a33-08230f7a501e",
   "metadata": {},
   "source": [
    ">_17. Use a strike level so that calls are OTM and puts are ITM._\n",
    ">>_a) Price an American call and put using a binomial tree._ \\\n",
    ">>_b) Compute the Greek delta for the American call and American put. How do they compare?_ \\\n",
    ">>_c) Compute the Greek gamma for the American call and American put. How do they compare?_ "
   ]
  },
  {
   "cell_type": "markdown",
   "id": "fc428e20-2c95-4f5d-83cc-02cfde0aa430",
   "metadata": {},
   "source": [
    "Set strike prices for OTM (out-of-the-money) calls & ITM (in-the-money) put options:"
   ]
  },
  {
   "cell_type": "code",
   "execution_count": 33,
   "id": "547a8e0b-b2a9-46a1-b12e-db06fae73d7c",
   "metadata": {},
   "outputs": [],
   "source": [
    "S0 = 100\n",
    "K_call_otm = K_put_itm = 110"
   ]
  },
  {
   "cell_type": "markdown",
   "id": "44808c52-e785-446f-a6bb-616b294cb1d9",
   "metadata": {},
   "source": [
    "***\n",
    "**Option prices:**"
   ]
  },
  {
   "cell_type": "markdown",
   "id": "dc22d841-2347-40c9-83dd-689bde0cbc3f",
   "metadata": {},
   "source": [
    "Price OTM American call option using binomial tree:"
   ]
  },
  {
   "cell_type": "code",
   "execution_count": 34,
   "id": "d9c6f418-404f-48d0-8c50-90c3a7fbb860",
   "metadata": {},
   "outputs": [
    {
     "name": "stdout",
     "output_type": "stream",
     "text": [
      "Call option value using binomial tree is: $1.19\n"
     ]
    }
   ],
   "source": [
    "american_or_european = \"A\"\n",
    "call_or_put = \"C\"\n",
    "price = binomial_tree_option_value(\n",
    "    S0, K_call_otm, t, r, σ, american_or_european, call_or_put\n",
    ")\n",
    "print(f\"Call option value using binomial tree is: ${price}\")"
   ]
  },
  {
   "cell_type": "markdown",
   "id": "841c1dcc-b47e-4f7f-b1ce-ce50cf8c9ea8",
   "metadata": {},
   "source": [
    "Price ITM American put option using binomial tree:"
   ]
  },
  {
   "cell_type": "code",
   "execution_count": 35,
   "id": "d1067cdb-93ef-4fa7-ab1f-a4434fb6a9c9",
   "metadata": {},
   "outputs": [
    {
     "name": "stdout",
     "output_type": "stream",
     "text": [
      "Put option value using binomial tree is: $10.33\n"
     ]
    }
   ],
   "source": [
    "american_or_european = \"A\"\n",
    "call_or_put = \"P\"\n",
    "price = binomial_tree_option_value(\n",
    "    S0, K_put_itm, t, r, σ, american_or_european, call_or_put\n",
    ")\n",
    "print(f\"Put option value using binomial tree is: ${price}\")"
   ]
  },
  {
   "cell_type": "markdown",
   "id": "a6b87c45-ec21-46cc-82d5-2cfd095ad031",
   "metadata": {},
   "source": [
    "***\n",
    "**Option delta:**\n",
    ">We observe delta for OTM call options to be positive and ITM put options to be negative."
   ]
  },
  {
   "cell_type": "markdown",
   "id": "8c425b33-2b43-400a-9c84-43ef926d7350",
   "metadata": {},
   "source": [
    "American OTM call option delta using binomial tree:"
   ]
  },
  {
   "cell_type": "code",
   "execution_count": 36,
   "id": "79515e32-3920-4a40-8335-1118f0b5f607",
   "metadata": {},
   "outputs": [
    {
     "name": "stdout",
     "output_type": "stream",
     "text": [
      "Call option delta using binomial tree is: 0.2181\n"
     ]
    }
   ],
   "source": [
    "american_or_european = 'A'\n",
    "call_or_put = 'C'\n",
    "δ = binomial_tree_δ(S0, K_call_otm, t, r, σ, american_or_european, call_or_put)\n",
    "print(f\"Call option delta using binomial tree is: {δ}\")"
   ]
  },
  {
   "cell_type": "markdown",
   "id": "b051b85d-446c-4568-90dc-e28a2b6a3f5d",
   "metadata": {},
   "source": [
    "American ITM put option delta using binomial tree:"
   ]
  },
  {
   "cell_type": "code",
   "execution_count": 37,
   "id": "e4d057f3-35a8-42dd-891a-5600f145e588",
   "metadata": {},
   "outputs": [
    {
     "name": "stdout",
     "output_type": "stream",
     "text": [
      "Put option delta using binomial tree is: -0.8485\n"
     ]
    }
   ],
   "source": [
    "american_or_european = 'A'\n",
    "call_or_put = 'P'\n",
    "δ = binomial_tree_δ(S0, K_put_itm, t, r, σ, american_or_european, call_or_put)\n",
    "print(f\"Put option delta using binomial tree is: {δ}\")"
   ]
  },
  {
   "cell_type": "markdown",
   "id": "72073f99-6dee-4380-9107-d8cfbe345d36",
   "metadata": {},
   "source": [
    "***\n",
    "**Option gamma:**\n",
    "> We observe positive gamma for both OTM call and ITM put options."
   ]
  },
  {
   "cell_type": "markdown",
   "id": "a82eacfe-5376-4945-89b4-ecc34b6f6c81",
   "metadata": {},
   "source": [
    "American OTM call option gamma using binomial tree:"
   ]
  },
  {
   "cell_type": "code",
   "execution_count": 38,
   "id": "3888d4c5-ff26-47e0-9f44-609b5dc3bcb7",
   "metadata": {},
   "outputs": [
    {
     "name": "stdout",
     "output_type": "stream",
     "text": [
      "Call option gamma using binomial tree is: 0.0295\n"
     ]
    }
   ],
   "source": [
    "american_or_european = \"A\"\n",
    "call_or_put = \"C\"\n",
    "γ = binomial_tree_γ(S0, K_call_otm, t, r, σ, american_or_european, call_or_put)\n",
    "print(f\"Call option gamma using binomial tree is: {γ}\")"
   ]
  },
  {
   "cell_type": "markdown",
   "id": "bfba1fea-e366-4764-8015-d38b0a529661",
   "metadata": {},
   "source": [
    "American ITM put option gamma using binomial tree:"
   ]
  },
  {
   "cell_type": "code",
   "execution_count": 39,
   "id": "35dba3e7-b528-49fb-85b2-96b066946b23",
   "metadata": {},
   "outputs": [
    {
     "name": "stdout",
     "output_type": "stream",
     "text": [
      "Put option gamma using binomial tree is: 0.0369\n"
     ]
    }
   ],
   "source": [
    "american_or_european = \"A\"\n",
    "call_or_put = \"P\"\n",
    "γ = binomial_tree_γ(S0, K_put_itm, t, r, σ, american_or_european, call_or_put)\n",
    "print(f\"Put option gamma using binomial tree is: {γ}\")"
   ]
  },
  {
   "cell_type": "markdown",
   "id": "e5606ab6-799f-42e9-bdab-d57d2e077816",
   "metadata": {},
   "source": [
    "***\n",
    ">_18. Use another strike level so that calls are deep OTM and puts are deep OTM._\n",
    ">>_a) Price an American call and put using a binomial tree._ \\\n",
    ">>_b) Compute the Greek delta for the American call and American put. How do they compare?_ \\\n",
    ">>_c) Compute the Greek gamma for the American call and American put. How do they compare?_ "
   ]
  },
  {
   "cell_type": "markdown",
   "id": "f03d6e7e-f135-4c4f-8be3-6ef74120e42c",
   "metadata": {},
   "source": [
    "Set strike prices for deep OTM (out-of-the-money) calls & deep ITM (in-the-money) put options:"
   ]
  },
  {
   "cell_type": "code",
   "execution_count": 40,
   "id": "4f7bd40c-d109-4c7d-b581-9128419f82b0",
   "metadata": {},
   "outputs": [],
   "source": [
    "S0 = 100\n",
    "K_call_deep_otm = 120\n",
    "K_put_deep_otm = 80"
   ]
  },
  {
   "cell_type": "markdown",
   "id": "d3522d0d-9485-49ae-8cab-4a05360ba377",
   "metadata": {},
   "source": [
    "***\n",
    "**Option prices:**"
   ]
  },
  {
   "cell_type": "markdown",
   "id": "244f3552-7071-4b6f-b896-eaf25574f5ac",
   "metadata": {},
   "source": [
    "Price deep OTM American call option using binomial tree:"
   ]
  },
  {
   "cell_type": "code",
   "execution_count": 41,
   "id": "667c5110-1294-4a8b-9dca-b349d130ef86",
   "metadata": {},
   "outputs": [
    {
     "name": "stdout",
     "output_type": "stream",
     "text": [
      "Call option value using binomial tree is: $0.2\n"
     ]
    }
   ],
   "source": [
    "american_or_european = \"A\"\n",
    "call_or_put = \"C\"\n",
    "price = binomial_tree_option_value(\n",
    "    S0, K_call_deep_otm, t, r, σ, american_or_european, call_or_put\n",
    ")\n",
    "print(f\"Call option value using binomial tree is: ${price}\")"
   ]
  },
  {
   "cell_type": "markdown",
   "id": "5519168d-0236-479c-9964-661f603ea744",
   "metadata": {},
   "source": [
    "Price deep OTM American put option using binomial tree"
   ]
  },
  {
   "cell_type": "code",
   "execution_count": 42,
   "id": "2cb3a380-12f0-4d51-a03e-c9477a359049",
   "metadata": {},
   "outputs": [
    {
     "name": "stdout",
     "output_type": "stream",
     "text": [
      "Put option value using binomial tree is: $0.03\n"
     ]
    }
   ],
   "source": [
    "american_or_european = \"A\"\n",
    "call_or_put = \"P\"\n",
    "price = binomial_tree_option_value(\n",
    "    S0, K_put_deep_otm, t, r, σ, american_or_european, call_or_put\n",
    ")\n",
    "print(f\"Put option value using binomial tree is: ${price}\")"
   ]
  },
  {
   "cell_type": "markdown",
   "id": "3d5f0278-b5bb-41c3-9e23-9c9cd950466d",
   "metadata": {},
   "source": [
    "***\n",
    "**Option delta:**\n",
    ">We observe delta for deep OTM call option to be near zero but small positive. The delta for deep OTM put option is also close to 0 and small negative."
   ]
  },
  {
   "cell_type": "markdown",
   "id": "7fef630a-7f68-4866-8419-fb9102b8f6ed",
   "metadata": {},
   "source": [
    "Delta for deep OTM American call option using binomial tree: "
   ]
  },
  {
   "cell_type": "code",
   "execution_count": 43,
   "id": "98ed5da9-9b29-4ea8-8458-a85512228657",
   "metadata": {},
   "outputs": [
    {
     "name": "stdout",
     "output_type": "stream",
     "text": [
      "Call option delta using binomial tree is: 0.0496\n"
     ]
    }
   ],
   "source": [
    "american_or_european = \"A\"\n",
    "call_or_put = \"C\"\n",
    "δ = binomial_tree_δ(S0, K_call_deep_otm, t, r, σ, american_or_european, call_or_put)\n",
    "print(f\"Call option delta using binomial tree is: {δ}\")"
   ]
  },
  {
   "cell_type": "markdown",
   "id": "3e8dd0e7-45e6-42da-b4b2-5c960835cdc6",
   "metadata": {},
   "source": [
    "Delta for deep OTM American put option using binomial tree:"
   ]
  },
  {
   "cell_type": "code",
   "execution_count": 44,
   "id": "de787744-aea5-4f46-a7b0-652bb822cd2d",
   "metadata": {},
   "outputs": [
    {
     "name": "stdout",
     "output_type": "stream",
     "text": [
      "Put option delta using binomial tree is: -0.0081\n"
     ]
    }
   ],
   "source": [
    "american_or_european = \"A\"\n",
    "call_or_put = \"P\"\n",
    "δ = binomial_tree_δ(S0, K_put_deep_otm, t, r, σ, american_or_european, call_or_put)\n",
    "print(f\"Put option delta using binomial tree is: {δ}\")"
   ]
  },
  {
   "cell_type": "markdown",
   "id": "1276cf36-3b1d-43de-a020-1e8f87affe31",
   "metadata": {},
   "source": [
    "***\n",
    "**Option gamma:**\n",
    ">We observe gamma for both deep OTM call and deep OTM put options to be near zero but stay positive."
   ]
  },
  {
   "cell_type": "markdown",
   "id": "f28afba1-d9ea-4242-8c4b-376573276182",
   "metadata": {},
   "source": [
    "Gamma for deep OTM American call option using binomial tree: "
   ]
  },
  {
   "cell_type": "code",
   "execution_count": 45,
   "id": "c081decd-4515-497a-9828-f4dc25a15c37",
   "metadata": {},
   "outputs": [
    {
     "name": "stdout",
     "output_type": "stream",
     "text": [
      "Call option gamma using binomial tree is: 0.0102\n"
     ]
    }
   ],
   "source": [
    "american_or_european = \"A\"\n",
    "call_or_put = \"C\"\n",
    "γ = binomial_tree_γ(S0, K_call_deep_otm, t, r, σ, american_or_european, call_or_put)\n",
    "print(f\"Call option gamma using binomial tree is: {γ}\")"
   ]
  },
  {
   "cell_type": "markdown",
   "id": "295e609a-722c-4933-9b75-e8c1d5af702d",
   "metadata": {},
   "source": [
    "Gamma for deep OTM American put option using binomial tree:"
   ]
  },
  {
   "cell_type": "code",
   "execution_count": 46,
   "id": "6b75e86b-bdb7-4087-9c9f-86e37d969ebf",
   "metadata": {},
   "outputs": [
    {
     "name": "stdout",
     "output_type": "stream",
     "text": [
      "Put option gamma using binomial tree is: 0.0022\n"
     ]
    }
   ],
   "source": [
    "american_or_european = \"A\"\n",
    "call_or_put = \"P\"\n",
    "γ = binomial_tree_γ(S0, K_put_deep_otm, t, r, σ, american_or_european, call_or_put)\n",
    "print(f\"Put option gamma using binomial tree is: {γ}\")"
   ]
  },
  {
   "cell_type": "markdown",
   "id": "1a8ff648-49a6-4b69-992c-7d832be0b1ff",
   "metadata": {},
   "source": [
    "*** \n",
    "# Questions 23 to 28\n",
    "***"
   ]
  },
  {
   "cell_type": "markdown",
   "id": "8d471283-721c-454f-b5ea-46aa5ee3a946",
   "metadata": {},
   "source": [
    ">_23. Graph #1. Graph European call prices and put prices versus stock price._"
   ]
  },
  {
   "cell_type": "code",
   "execution_count": 47,
   "id": "b7e34652-0f05-4e1d-ac13-e4f6264edb6f",
   "metadata": {},
   "outputs": [
    {
     "data": {
      "image/png": "[encoded data removed]",
      "text/plain": [
       "<Figure size 720x432 with 2 Axes>"
      ]
     },
     "metadata": {},
     "output_type": "display_data"
    }
   ],
   "source": [
    "stock_prices = np.floor(np.linspace(80, 120, 10))\n",
    "call_prices = pd.Series(index=stock_prices, dtype=float)\n",
    "put_prices = pd.Series(index=stock_prices, dtype=float)\n",
    "for i, stock_price in enumerate(stock_prices):\n",
    "    call_prices.iloc[i] = bsm_call_value(stock_price, K, t, r, σ)\n",
    "    put_prices.iloc[i] = bsm_put_value(stock_price, K, t, r, σ)\n",
    "draw_plot(\n",
    "    call_prices,\n",
    "    \"Stock Price\",\n",
    "    \"Option Price\",\n",
    "    \"European call and put prices vs stock price\",\n",
    "    put_prices,\n",
    "    labels=[\"Call\", \"Put (right-hand side scale)\"],\n",
    ")"
   ]
  },
  {
   "cell_type": "markdown",
   "id": "c6082252-8126-4ec3-ab14-21397eb9a65d",
   "metadata": {},
   "source": [
    ">_24. Graph #2. Graph American call prices and put prices versus strike._"
   ]
  },
  {
   "cell_type": "code",
   "execution_count": 48,
   "id": "de21c0eb-6115-4c87-be90-c9632d6eba9f",
   "metadata": {},
   "outputs": [
    {
     "data": {
      "image/png": "[encoded data removed]",
      "text/plain": [
       "<Figure size 720x432 with 2 Axes>"
      ]
     },
     "metadata": {},
     "output_type": "display_data"
    }
   ],
   "source": [
    "strike_prices = np.floor(np.linspace(80, 120, 10))\n",
    "call_prices = pd.Series(index=strike_prices, dtype=float)\n",
    "put_prices = pd.Series(index=strike_prices, dtype=float)\n",
    "for i, strike_price in enumerate(strike_prices):\n",
    "    call_prices.iloc[i] = binomial_tree_option_value(\n",
    "        S0, strike_price, t, r, σ, \"A\", \"C\", N=200\n",
    "    )\n",
    "    put_prices.iloc[i] = binomial_tree_option_value(\n",
    "        S0, strike_price, t, r, σ, \"A\", \"P\", N=200\n",
    "    )\n",
    "draw_plot(\n",
    "    call_prices,\n",
    "    \"Strike Price\",\n",
    "    \"Option Price\",\n",
    "    \"American call and put prices vs strike price(S0=$100)\",\n",
    "    put_prices,\n",
    "    labels=[\"Call\", \"Put (right-hand side scale)\"],\n",
    ")"
   ]
  },
  {
   "cell_type": "markdown",
   "id": "994f22b7-2c8e-4cb9-be53-4474769722ea",
   "metadata": {},
   "source": [
    ">_25. Graph #3. Graph European and American call prices versus strike._"
   ]
  },
  {
   "cell_type": "code",
   "execution_count": 49,
   "id": "6173961a-3556-42f3-bb67-7790ed530f00",
   "metadata": {},
   "outputs": [
    {
     "data": {
      "image/png": "[encoded data removed]",
      "text/plain": [
       "<Figure size 720x432 with 1 Axes>"
      ]
     },
     "metadata": {},
     "output_type": "display_data"
    }
   ],
   "source": [
    "strike_prices = np.floor(np.linspace(80, 120, 10))\n",
    "call_prices_eu = pd.Series(index=strike_prices, dtype=float)\n",
    "call_prices_am = pd.Series(index=strike_prices, dtype=float)\n",
    "for i, strike_price in enumerate(strike_prices):\n",
    "    call_prices_eu.iloc[i] = bsm_call_value(S0, strike_price, t, r, σ)\n",
    "    call_prices_am.iloc[i] = binomial_tree_option_value(\n",
    "        S0, strike_price, t, r, σ, \"A\", \"C\", N=200\n",
    "    )\n",
    "\n",
    "fig, ax = plt.subplots()\n",
    "call_prices_eu.plot(label=f\"Eurpoean\", ax=ax, linewidth=1, color=\"red\", alpha=1)\n",
    "call_prices_am.plot(label=f\"American\", ax=ax, linewidth=5, color=\"blue\", alpha=0.3)\n",
    "ax.legend(fontsize=12)\n",
    "ax.set_title(\"European and American call prices vs strike(S0=$100)\", fontsize=14)\n",
    "ax.set_xlabel(\"Strike price\", fontsize=14)\n",
    "ax.set_ylabel(\"Option price\", fontsize=14)\n",
    "\n",
    "plt.tight_layout()\n",
    "plt.show()"
   ]
  },
  {
   "cell_type": "markdown",
   "id": "656aa717-08e2-4814-85c4-1cebf3989878",
   "metadata": {},
   "source": [
    ">_26. Graph #4. Graph European and American put prices versus strike._"
   ]
  },
  {
   "cell_type": "code",
   "execution_count": 50,
   "id": "ec01080f-8a93-4cc3-89f1-18c913e9b627",
   "metadata": {},
   "outputs": [
    {
     "data": {
      "image/png": "[encoded data removed]",
      "text/plain": [
       "<Figure size 720x432 with 1 Axes>"
      ]
     },
     "metadata": {},
     "output_type": "display_data"
    }
   ],
   "source": [
    "strike_prices = np.floor(np.linspace(80, 120, 10))\n",
    "put_prices_eu = pd.Series(index=strike_prices, dtype=float)\n",
    "put_prices_am = pd.Series(index=strike_prices, dtype=float)\n",
    "for i, strike_price in enumerate(strike_prices):\n",
    "    put_prices_eu.iloc[i] = bsm_put_value(S0, strike_price, t, r, σ)\n",
    "    put_prices_am.iloc[i] = binomial_tree_option_value(\n",
    "        S0, strike_price, t, r, σ, \"A\", \"P\", N=200\n",
    "    )\n",
    "\n",
    "fig, ax = plt.subplots()\n",
    "put_prices_eu.plot(label=f\"Eurpoean\", ax=ax, linewidth=1, color=\"red\", alpha=1)\n",
    "put_prices_am.plot(label=f\"American\", ax=ax, linewidth=5, color=\"blue\", alpha=0.3)\n",
    "ax.legend(fontsize=12)\n",
    "ax.set_title(\"European and American put prices vs strike(S0=$100)\", fontsize=14)\n",
    "ax.set_xlabel(\"Strike price\", fontsize=14)\n",
    "ax.set_ylabel(\"Option price\", fontsize=14)\n",
    "\n",
    "plt.tight_layout()\n",
    "plt.show()"
   ]
  },
  {
   "cell_type": "markdown",
   "id": "493984fc-14a6-4914-9e91-7072fb00e6bd",
   "metadata": {},
   "source": [
    ">_27. Graph #5. Graph European deltas versus strike._"
   ]
  },
  {
   "cell_type": "code",
   "execution_count": 51,
   "id": "8c4acd6e-25c6-4ac1-9dcf-70d2cdc41eb5",
   "metadata": {},
   "outputs": [
    {
     "data": {
      "image/png": "[encoded data removed]",
      "text/plain": [
       "<Figure size 720x432 with 1 Axes>"
      ]
     },
     "metadata": {},
     "output_type": "display_data"
    }
   ],
   "source": [
    "strike_prices = np.floor(np.linspace(80, 120, 10))\n",
    "call_deltas = pd.Series(index=strike_prices, dtype=float)\n",
    "put_deltas = pd.Series(index=strike_prices, dtype=float)\n",
    "\n",
    "for i, strike_price in enumerate(strike_prices):\n",
    "    call_deltas.iloc[i] = bsm_call_delta(S0, strike_price, t, r, σ)\n",
    "    put_deltas.iloc[i] = bsm_put_delta(S0, strike_price, t, r, σ)\n",
    "\n",
    "fig, ax = plt.subplots()\n",
    "call_deltas.plot(label=f\"Call\", ax=ax)\n",
    "put_deltas.plot(label=f\"Put\", ax=ax)\n",
    "ax.legend(fontsize=12)\n",
    "ax.set_title(\"European call and put deltas vs strike(S0=$100)\", fontsize=14)\n",
    "ax.set_xlabel(\"Strike price\", fontsize=14)\n",
    "ax.set_ylabel(\"Option delta\", fontsize=14)\n",
    "\n",
    "plt.tight_layout()\n",
    "plt.show()"
   ]
  },
  {
   "cell_type": "markdown",
   "id": "092dfb2d-2270-45f2-9d0f-ac6effac7776",
   "metadata": {},
   "source": [
    ">_28. Graph #6. Graph European gammas versus strike._"
   ]
  },
  {
   "cell_type": "code",
   "execution_count": 52,
   "id": "13ac3524-578b-4046-9d9f-0147861c3274",
   "metadata": {},
   "outputs": [
    {
     "data": {
      "image/png": "[encoded data removed]",
      "text/plain": [
       "<Figure size 720x432 with 1 Axes>"
      ]
     },
     "metadata": {},
     "output_type": "display_data"
    }
   ],
   "source": [
    "strike_prices = np.floor(np.linspace(80, 120, 10))\n",
    "call_gammas = pd.Series(index=strike_prices, dtype=float)\n",
    "put_gammas = pd.Series(index=strike_prices, dtype=float)\n",
    "\n",
    "for i, strike_price in enumerate(strike_prices):\n",
    "    call_gammas.iloc[i] = bsm_gamma(S0, strike_price, t, r, σ)\n",
    "    put_gammas.iloc[i] = bsm_gamma(S0, strike_price, t, r, σ)\n",
    "\n",
    "fig, ax = plt.subplots()\n",
    "call_gammas.plot(label=f\"Call\", ax=ax, linewidth=1, color=\"red\", alpha=1)\n",
    "put_gammas.plot(label=f\"Put\", ax=ax, linewidth=5, color=\"blue\", alpha=0.3)\n",
    "ax.legend(fontsize=12)\n",
    "ax.set_title(\"European call and put gammas vs strike(S0=$100)\", fontsize=14)\n",
    "ax.set_xlabel(\"Strike price\", fontsize=14)\n",
    "ax.set_ylabel(\"Option gamma\", fontsize=14)\n",
    "\n",
    "plt.tight_layout()\n",
    "plt.show()"
   ]
  },
  {
   "cell_type": "markdown",
   "id": "cb4c430f-242f-48b0-8a89-ef3699fc08a2",
   "metadata": {},
   "source": [
    "*** \n",
    "<font size=5> **Step 3:**</font>"
   ]
  },
  {
   "cell_type": "markdown",
   "id": "79b671a8-3fe3-4afc-ab4f-5e8d59a36994",
   "metadata": {},
   "source": [
    "# Questions 29 to 35\n",
    "***"
   ]
  },
  {
   "cell_type": "markdown",
   "id": "3daefd25-45ea-4b48-8dd6-f620874e412c",
   "metadata": {},
   "source": [
    ">_29. Pick a non-FANG stock for which you can get option data._\n",
    "\n",
    "For this exercise, we obtained options chain data for TSLA stock from Yahoo finance."
   ]
  },
  {
   "cell_type": "code",
   "execution_count": 53,
   "id": "eba0436a-987f-45a8-b8ee-a173978b2a00",
   "metadata": {},
   "outputs": [
    {
     "name": "stdout",
     "output_type": "stream",
     "text": [
      "Current underlying price is $270.21\n"
     ]
    }
   ],
   "source": [
    "STRIKE_DISTANCE = 5\n",
    "STRIKE_THRESHOLD = STRIKE_DISTANCE * 3\n",
    "\n",
    "UNDERLYING_SYMBOL = \"TSLA\"\n",
    "option_chains = get_options_chains(UNDERLYING_SYMBOL)\n",
    "\n",
    "underlying_price = get_stock_price(UNDERLYING_SYMBOL)\n",
    "print(f\"Current underlying price is ${underlying_price}\")\n",
    "\n",
    "# Create mask to remove option chains with nonuseful data\n",
    "mask = option_chains[\"volume\"] != None\n",
    "mask &= option_chains[\"dte\"] != 0\n",
    "mask &= (\n",
    "    option_chains[\"strike\"]\n",
    "    > (round(underlying_price / STRIKE_DISTANCE, 0) * STRIKE_DISTANCE)\n",
    "    - STRIKE_THRESHOLD\n",
    ")\n",
    "mask &= (\n",
    "    option_chains[\"strike\"]\n",
    "    < (round(underlying_price / STRIKE_DISTANCE, 0) * STRIKE_DISTANCE)\n",
    "    + STRIKE_THRESHOLD\n",
    ")\n",
    "\n",
    "option_chains = option_chains[mask]\n",
    "\n",
    "# Separate out call options\n",
    "call_options = option_chains[option_chains[\"CALL\"]]\n",
    "# Separate out put options\n",
    "put_options = option_chains[option_chains[\"PUT\"]]"
   ]
  },
  {
   "cell_type": "markdown",
   "id": "8fd80db9-dccc-4157-ab15-d25bc152ed4a",
   "metadata": {},
   "source": [
    "***\n",
    "<font size=4>**Call options data**</font>"
   ]
  },
  {
   "cell_type": "code",
   "execution_count": 91,
   "id": "105f7cc6-25d3-435e-bb64-668a6cb55b0e",
   "metadata": {},
   "outputs": [
    {
     "data": {
      "text/html": [
       "<div>\n",
       "<style scoped>\n",
       "    .dataframe tbody tr th:only-of-type {\n",
       "        vertical-align: middle;\n",
       "    }\n",
       "\n",
       "    .dataframe tbody tr th {\n",
       "        vertical-align: top;\n",
       "    }\n",
       "\n",
       "    .dataframe thead th {\n",
       "        text-align: right;\n",
       "    }\n",
       "</style>\n",
       "<table border=\"1\" class=\"dataframe\">\n",
       "  <thead>\n",
       "    <tr style=\"text-align: right;\">\n",
       "      <th></th>\n",
       "      <th>contractSymbol</th>\n",
       "      <th>strike</th>\n",
       "      <th>lastPrice</th>\n",
       "      <th>bid</th>\n",
       "      <th>ask</th>\n",
       "      <th>volume</th>\n",
       "      <th>openInterest</th>\n",
       "      <th>impliedVolatility</th>\n",
       "      <th>inTheMoney</th>\n",
       "      <th>expirationDate</th>\n",
       "      <th>dte</th>\n",
       "      <th>CALL</th>\n",
       "      <th>PUT</th>\n",
       "      <th>mark</th>\n",
       "    </tr>\n",
       "  </thead>\n",
       "  <tbody>\n",
       "    <tr>\n",
       "      <th>50</th>\n",
       "      <td>TSLA220909C00256670</td>\n",
       "      <td>256.67</td>\n",
       "      <td>15.45</td>\n",
       "      <td>15.90</td>\n",
       "      <td>16.35</td>\n",
       "      <td>352.0</td>\n",
       "      <td>281.0</td>\n",
       "      <td>0.608891</td>\n",
       "      <td>True</td>\n",
       "      <td>2022-09-10</td>\n",
       "      <td>0.013699</td>\n",
       "      <td>True</td>\n",
       "      <td>False</td>\n",
       "      <td>16.125</td>\n",
       "    </tr>\n",
       "    <tr>\n",
       "      <th>51</th>\n",
       "      <td>TSLA220909C00258330</td>\n",
       "      <td>258.33</td>\n",
       "      <td>14.35</td>\n",
       "      <td>14.60</td>\n",
       "      <td>15.10</td>\n",
       "      <td>297.0</td>\n",
       "      <td>342.0</td>\n",
       "      <td>0.604008</td>\n",
       "      <td>True</td>\n",
       "      <td>2022-09-10</td>\n",
       "      <td>0.013699</td>\n",
       "      <td>True</td>\n",
       "      <td>False</td>\n",
       "      <td>14.850</td>\n",
       "    </tr>\n",
       "    <tr>\n",
       "      <th>52</th>\n",
       "      <td>TSLA220909C00260000</td>\n",
       "      <td>260.00</td>\n",
       "      <td>13.25</td>\n",
       "      <td>13.35</td>\n",
       "      <td>13.80</td>\n",
       "      <td>1152.0</td>\n",
       "      <td>697.0</td>\n",
       "      <td>0.595707</td>\n",
       "      <td>True</td>\n",
       "      <td>2022-09-10</td>\n",
       "      <td>0.013699</td>\n",
       "      <td>True</td>\n",
       "      <td>False</td>\n",
       "      <td>13.575</td>\n",
       "    </tr>\n",
       "    <tr>\n",
       "      <th>53</th>\n",
       "      <td>TSLA220909C00261670</td>\n",
       "      <td>261.67</td>\n",
       "      <td>11.90</td>\n",
       "      <td>12.15</td>\n",
       "      <td>12.40</td>\n",
       "      <td>739.0</td>\n",
       "      <td>821.0</td>\n",
       "      <td>0.581181</td>\n",
       "      <td>True</td>\n",
       "      <td>2022-09-10</td>\n",
       "      <td>0.013699</td>\n",
       "      <td>True</td>\n",
       "      <td>False</td>\n",
       "      <td>12.275</td>\n",
       "    </tr>\n",
       "    <tr>\n",
       "      <th>54</th>\n",
       "      <td>TSLA220909C00263330</td>\n",
       "      <td>263.33</td>\n",
       "      <td>10.89</td>\n",
       "      <td>11.00</td>\n",
       "      <td>11.45</td>\n",
       "      <td>554.0</td>\n",
       "      <td>595.0</td>\n",
       "      <td>0.583989</td>\n",
       "      <td>True</td>\n",
       "      <td>2022-09-10</td>\n",
       "      <td>0.013699</td>\n",
       "      <td>True</td>\n",
       "      <td>False</td>\n",
       "      <td>11.225</td>\n",
       "    </tr>\n",
       "    <tr>\n",
       "      <th>...</th>\n",
       "      <td>...</td>\n",
       "      <td>...</td>\n",
       "      <td>...</td>\n",
       "      <td>...</td>\n",
       "      <td>...</td>\n",
       "      <td>...</td>\n",
       "      <td>...</td>\n",
       "      <td>...</td>\n",
       "      <td>...</td>\n",
       "      <td>...</td>\n",
       "      <td>...</td>\n",
       "      <td>...</td>\n",
       "      <td>...</td>\n",
       "      <td>...</td>\n",
       "    </tr>\n",
       "    <tr>\n",
       "      <th>7160</th>\n",
       "      <td>TSLA240621C00270000</td>\n",
       "      <td>270.00</td>\n",
       "      <td>90.00</td>\n",
       "      <td>88.85</td>\n",
       "      <td>91.25</td>\n",
       "      <td>134.0</td>\n",
       "      <td>1037.0</td>\n",
       "      <td>0.641773</td>\n",
       "      <td>True</td>\n",
       "      <td>2024-06-22</td>\n",
       "      <td>1.797260</td>\n",
       "      <td>True</td>\n",
       "      <td>False</td>\n",
       "      <td>90.050</td>\n",
       "    </tr>\n",
       "    <tr>\n",
       "      <th>7161</th>\n",
       "      <td>TSLA240621C00273330</td>\n",
       "      <td>273.33</td>\n",
       "      <td>89.00</td>\n",
       "      <td>86.90</td>\n",
       "      <td>89.80</td>\n",
       "      <td>3.0</td>\n",
       "      <td>1118.0</td>\n",
       "      <td>0.637272</td>\n",
       "      <td>False</td>\n",
       "      <td>2024-06-22</td>\n",
       "      <td>1.797260</td>\n",
       "      <td>True</td>\n",
       "      <td>False</td>\n",
       "      <td>88.350</td>\n",
       "    </tr>\n",
       "    <tr>\n",
       "      <th>7162</th>\n",
       "      <td>TSLA240621C00276670</td>\n",
       "      <td>276.67</td>\n",
       "      <td>87.58</td>\n",
       "      <td>86.25</td>\n",
       "      <td>88.45</td>\n",
       "      <td>51.0</td>\n",
       "      <td>637.0</td>\n",
       "      <td>0.637974</td>\n",
       "      <td>False</td>\n",
       "      <td>2024-06-22</td>\n",
       "      <td>1.797260</td>\n",
       "      <td>True</td>\n",
       "      <td>False</td>\n",
       "      <td>87.350</td>\n",
       "    </tr>\n",
       "    <tr>\n",
       "      <th>7163</th>\n",
       "      <td>TSLA240621C00280000</td>\n",
       "      <td>280.00</td>\n",
       "      <td>86.00</td>\n",
       "      <td>85.10</td>\n",
       "      <td>86.90</td>\n",
       "      <td>70.0</td>\n",
       "      <td>787.0</td>\n",
       "      <td>0.635898</td>\n",
       "      <td>False</td>\n",
       "      <td>2024-06-22</td>\n",
       "      <td>1.797260</td>\n",
       "      <td>True</td>\n",
       "      <td>False</td>\n",
       "      <td>86.000</td>\n",
       "    </tr>\n",
       "    <tr>\n",
       "      <th>7164</th>\n",
       "      <td>TSLA240621C00283330</td>\n",
       "      <td>283.33</td>\n",
       "      <td>85.20</td>\n",
       "      <td>83.70</td>\n",
       "      <td>85.75</td>\n",
       "      <td>302.0</td>\n",
       "      <td>3235.0</td>\n",
       "      <td>0.634281</td>\n",
       "      <td>False</td>\n",
       "      <td>2024-06-22</td>\n",
       "      <td>1.797260</td>\n",
       "      <td>True</td>\n",
       "      <td>False</td>\n",
       "      <td>84.725</td>\n",
       "    </tr>\n",
       "  </tbody>\n",
       "</table>\n",
       "<p>161 rows × 14 columns</p>\n",
       "</div>"
      ],
      "text/plain": [
       "           contractSymbol  strike  lastPrice    bid    ask  volume  \\\n",
       "50    TSLA220909C00256670  256.67      15.45  15.90  16.35   352.0   \n",
       "51    TSLA220909C00258330  258.33      14.35  14.60  15.10   297.0   \n",
       "52    TSLA220909C00260000  260.00      13.25  13.35  13.80  1152.0   \n",
       "53    TSLA220909C00261670  261.67      11.90  12.15  12.40   739.0   \n",
       "54    TSLA220909C00263330  263.33      10.89  11.00  11.45   554.0   \n",
       "...                   ...     ...        ...    ...    ...     ...   \n",
       "7160  TSLA240621C00270000  270.00      90.00  88.85  91.25   134.0   \n",
       "7161  TSLA240621C00273330  273.33      89.00  86.90  89.80     3.0   \n",
       "7162  TSLA240621C00276670  276.67      87.58  86.25  88.45    51.0   \n",
       "7163  TSLA240621C00280000  280.00      86.00  85.10  86.90    70.0   \n",
       "7164  TSLA240621C00283330  283.33      85.20  83.70  85.75   302.0   \n",
       "\n",
       "      openInterest  impliedVolatility  inTheMoney expirationDate       dte  \\\n",
       "50           281.0           0.608891        True     2022-09-10  0.013699   \n",
       "51           342.0           0.604008        True     2022-09-10  0.013699   \n",
       "52           697.0           0.595707        True     2022-09-10  0.013699   \n",
       "53           821.0           0.581181        True     2022-09-10  0.013699   \n",
       "54           595.0           0.583989        True     2022-09-10  0.013699   \n",
       "...            ...                ...         ...            ...       ...   \n",
       "7160        1037.0           0.641773        True     2024-06-22  1.797260   \n",
       "7161        1118.0           0.637272       False     2024-06-22  1.797260   \n",
       "7162         637.0           0.637974       False     2024-06-22  1.797260   \n",
       "7163         787.0           0.635898       False     2024-06-22  1.797260   \n",
       "7164        3235.0           0.634281       False     2024-06-22  1.797260   \n",
       "\n",
       "      CALL    PUT    mark  \n",
       "50    True  False  16.125  \n",
       "51    True  False  14.850  \n",
       "52    True  False  13.575  \n",
       "53    True  False  12.275  \n",
       "54    True  False  11.225  \n",
       "...    ...    ...     ...  \n",
       "7160  True  False  90.050  \n",
       "7161  True  False  88.350  \n",
       "7162  True  False  87.350  \n",
       "7163  True  False  86.000  \n",
       "7164  True  False  84.725  \n",
       "\n",
       "[161 rows x 14 columns]"
      ]
     },
     "execution_count": 91,
     "metadata": {},
     "output_type": "execute_result"
    }
   ],
   "source": [
    "call_options"
   ]
  },
  {
   "cell_type": "markdown",
   "id": "18d47537-3f3d-4f6f-898c-9ff6c5be1f05",
   "metadata": {},
   "source": [
    "***\n",
    "<font size=4>**Put options data**</font>"
   ]
  },
  {
   "cell_type": "code",
   "execution_count": 55,
   "id": "bbc82a12-f6f9-498a-99a2-abde5241393a",
   "metadata": {},
   "outputs": [
    {
     "data": {
      "text/html": [
       "<div>\n",
       "<style scoped>\n",
       "    .dataframe tbody tr th:only-of-type {\n",
       "        vertical-align: middle;\n",
       "    }\n",
       "\n",
       "    .dataframe tbody tr th {\n",
       "        vertical-align: top;\n",
       "    }\n",
       "\n",
       "    .dataframe thead th {\n",
       "        text-align: right;\n",
       "    }\n",
       "</style>\n",
       "<table border=\"1\" class=\"dataframe\">\n",
       "  <thead>\n",
       "    <tr style=\"text-align: right;\">\n",
       "      <th></th>\n",
       "      <th>contractSymbol</th>\n",
       "      <th>strike</th>\n",
       "      <th>lastPrice</th>\n",
       "      <th>bid</th>\n",
       "      <th>ask</th>\n",
       "      <th>volume</th>\n",
       "      <th>openInterest</th>\n",
       "      <th>impliedVolatility</th>\n",
       "      <th>inTheMoney</th>\n",
       "      <th>expirationDate</th>\n",
       "      <th>dte</th>\n",
       "      <th>CALL</th>\n",
       "      <th>PUT</th>\n",
       "      <th>mark</th>\n",
       "    </tr>\n",
       "  </thead>\n",
       "  <tbody>\n",
       "    <tr>\n",
       "      <th>331</th>\n",
       "      <td>TSLA220909P00256670</td>\n",
       "      <td>256.67</td>\n",
       "      <td>2.40</td>\n",
       "      <td>2.29</td>\n",
       "      <td>2.36</td>\n",
       "      <td>1595.0</td>\n",
       "      <td>1251.0</td>\n",
       "      <td>0.581059</td>\n",
       "      <td>False</td>\n",
       "      <td>2022-09-10</td>\n",
       "      <td>0.013699</td>\n",
       "      <td>False</td>\n",
       "      <td>True</td>\n",
       "      <td>2.325</td>\n",
       "    </tr>\n",
       "    <tr>\n",
       "      <th>332</th>\n",
       "      <td>TSLA220909P00258330</td>\n",
       "      <td>258.33</td>\n",
       "      <td>2.69</td>\n",
       "      <td>2.64</td>\n",
       "      <td>2.77</td>\n",
       "      <td>2458.0</td>\n",
       "      <td>1959.0</td>\n",
       "      <td>0.577641</td>\n",
       "      <td>False</td>\n",
       "      <td>2022-09-10</td>\n",
       "      <td>0.013699</td>\n",
       "      <td>False</td>\n",
       "      <td>True</td>\n",
       "      <td>2.705</td>\n",
       "    </tr>\n",
       "    <tr>\n",
       "      <th>333</th>\n",
       "      <td>TSLA220909P00260000</td>\n",
       "      <td>260.00</td>\n",
       "      <td>3.10</td>\n",
       "      <td>3.05</td>\n",
       "      <td>3.15</td>\n",
       "      <td>18826.0</td>\n",
       "      <td>3924.0</td>\n",
       "      <td>0.570683</td>\n",
       "      <td>False</td>\n",
       "      <td>2022-09-10</td>\n",
       "      <td>0.013699</td>\n",
       "      <td>False</td>\n",
       "      <td>True</td>\n",
       "      <td>3.100</td>\n",
       "    </tr>\n",
       "    <tr>\n",
       "      <th>334</th>\n",
       "      <td>TSLA220909P00261670</td>\n",
       "      <td>261.67</td>\n",
       "      <td>3.50</td>\n",
       "      <td>3.50</td>\n",
       "      <td>3.70</td>\n",
       "      <td>2243.0</td>\n",
       "      <td>986.0</td>\n",
       "      <td>0.569096</td>\n",
       "      <td>False</td>\n",
       "      <td>2022-09-10</td>\n",
       "      <td>0.013699</td>\n",
       "      <td>False</td>\n",
       "      <td>True</td>\n",
       "      <td>3.600</td>\n",
       "    </tr>\n",
       "    <tr>\n",
       "      <th>335</th>\n",
       "      <td>TSLA220909P00263330</td>\n",
       "      <td>263.33</td>\n",
       "      <td>4.08</td>\n",
       "      <td>4.00</td>\n",
       "      <td>4.15</td>\n",
       "      <td>3104.0</td>\n",
       "      <td>1360.0</td>\n",
       "      <td>0.560673</td>\n",
       "      <td>False</td>\n",
       "      <td>2022-09-10</td>\n",
       "      <td>0.013699</td>\n",
       "      <td>False</td>\n",
       "      <td>True</td>\n",
       "      <td>4.075</td>\n",
       "    </tr>\n",
       "    <tr>\n",
       "      <th>...</th>\n",
       "      <td>...</td>\n",
       "      <td>...</td>\n",
       "      <td>...</td>\n",
       "      <td>...</td>\n",
       "      <td>...</td>\n",
       "      <td>...</td>\n",
       "      <td>...</td>\n",
       "      <td>...</td>\n",
       "      <td>...</td>\n",
       "      <td>...</td>\n",
       "      <td>...</td>\n",
       "      <td>...</td>\n",
       "      <td>...</td>\n",
       "      <td>...</td>\n",
       "    </tr>\n",
       "    <tr>\n",
       "      <th>7358</th>\n",
       "      <td>TSLA240621P00270000</td>\n",
       "      <td>270.00</td>\n",
       "      <td>74.09</td>\n",
       "      <td>72.65</td>\n",
       "      <td>73.90</td>\n",
       "      <td>2.0</td>\n",
       "      <td>534.0</td>\n",
       "      <td>0.518422</td>\n",
       "      <td>False</td>\n",
       "      <td>2024-06-22</td>\n",
       "      <td>1.797260</td>\n",
       "      <td>False</td>\n",
       "      <td>True</td>\n",
       "      <td>73.275</td>\n",
       "    </tr>\n",
       "    <tr>\n",
       "      <th>7359</th>\n",
       "      <td>TSLA240621P00273330</td>\n",
       "      <td>273.33</td>\n",
       "      <td>74.50</td>\n",
       "      <td>74.60</td>\n",
       "      <td>75.80</td>\n",
       "      <td>1.0</td>\n",
       "      <td>855.0</td>\n",
       "      <td>0.516942</td>\n",
       "      <td>True</td>\n",
       "      <td>2024-06-22</td>\n",
       "      <td>1.797260</td>\n",
       "      <td>False</td>\n",
       "      <td>True</td>\n",
       "      <td>75.200</td>\n",
       "    </tr>\n",
       "    <tr>\n",
       "      <th>7360</th>\n",
       "      <td>TSLA240621P00276670</td>\n",
       "      <td>276.67</td>\n",
       "      <td>77.60</td>\n",
       "      <td>76.05</td>\n",
       "      <td>77.70</td>\n",
       "      <td>4.0</td>\n",
       "      <td>870.0</td>\n",
       "      <td>0.513478</td>\n",
       "      <td>True</td>\n",
       "      <td>2024-06-22</td>\n",
       "      <td>1.797260</td>\n",
       "      <td>False</td>\n",
       "      <td>True</td>\n",
       "      <td>76.875</td>\n",
       "    </tr>\n",
       "    <tr>\n",
       "      <th>7361</th>\n",
       "      <td>TSLA240621P00280000</td>\n",
       "      <td>280.00</td>\n",
       "      <td>79.15</td>\n",
       "      <td>78.40</td>\n",
       "      <td>79.65</td>\n",
       "      <td>27.0</td>\n",
       "      <td>1189.0</td>\n",
       "      <td>0.513356</td>\n",
       "      <td>True</td>\n",
       "      <td>2024-06-22</td>\n",
       "      <td>1.797260</td>\n",
       "      <td>False</td>\n",
       "      <td>True</td>\n",
       "      <td>79.025</td>\n",
       "    </tr>\n",
       "    <tr>\n",
       "      <th>7362</th>\n",
       "      <td>TSLA240621P00283330</td>\n",
       "      <td>283.33</td>\n",
       "      <td>80.50</td>\n",
       "      <td>80.35</td>\n",
       "      <td>81.60</td>\n",
       "      <td>6.0</td>\n",
       "      <td>977.0</td>\n",
       "      <td>0.511647</td>\n",
       "      <td>True</td>\n",
       "      <td>2024-06-22</td>\n",
       "      <td>1.797260</td>\n",
       "      <td>False</td>\n",
       "      <td>True</td>\n",
       "      <td>80.975</td>\n",
       "    </tr>\n",
       "  </tbody>\n",
       "</table>\n",
       "<p>161 rows × 14 columns</p>\n",
       "</div>"
      ],
      "text/plain": [
       "           contractSymbol  strike  lastPrice    bid    ask   volume  \\\n",
       "331   TSLA220909P00256670  256.67       2.40   2.29   2.36   1595.0   \n",
       "332   TSLA220909P00258330  258.33       2.69   2.64   2.77   2458.0   \n",
       "333   TSLA220909P00260000  260.00       3.10   3.05   3.15  18826.0   \n",
       "334   TSLA220909P00261670  261.67       3.50   3.50   3.70   2243.0   \n",
       "335   TSLA220909P00263330  263.33       4.08   4.00   4.15   3104.0   \n",
       "...                   ...     ...        ...    ...    ...      ...   \n",
       "7358  TSLA240621P00270000  270.00      74.09  72.65  73.90      2.0   \n",
       "7359  TSLA240621P00273330  273.33      74.50  74.60  75.80      1.0   \n",
       "7360  TSLA240621P00276670  276.67      77.60  76.05  77.70      4.0   \n",
       "7361  TSLA240621P00280000  280.00      79.15  78.40  79.65     27.0   \n",
       "7362  TSLA240621P00283330  283.33      80.50  80.35  81.60      6.0   \n",
       "\n",
       "      openInterest  impliedVolatility  inTheMoney expirationDate       dte  \\\n",
       "331         1251.0           0.581059       False     2022-09-10  0.013699   \n",
       "332         1959.0           0.577641       False     2022-09-10  0.013699   \n",
       "333         3924.0           0.570683       False     2022-09-10  0.013699   \n",
       "334          986.0           0.569096       False     2022-09-10  0.013699   \n",
       "335         1360.0           0.560673       False     2022-09-10  0.013699   \n",
       "...            ...                ...         ...            ...       ...   \n",
       "7358         534.0           0.518422       False     2024-06-22  1.797260   \n",
       "7359         855.0           0.516942        True     2024-06-22  1.797260   \n",
       "7360         870.0           0.513478        True     2024-06-22  1.797260   \n",
       "7361        1189.0           0.513356        True     2024-06-22  1.797260   \n",
       "7362         977.0           0.511647        True     2024-06-22  1.797260   \n",
       "\n",
       "       CALL   PUT    mark  \n",
       "331   False  True   2.325  \n",
       "332   False  True   2.705  \n",
       "333   False  True   3.100  \n",
       "334   False  True   3.600  \n",
       "335   False  True   4.075  \n",
       "...     ...   ...     ...  \n",
       "7358  False  True  73.275  \n",
       "7359  False  True  75.200  \n",
       "7360  False  True  76.875  \n",
       "7361  False  True  79.025  \n",
       "7362  False  True  80.975  \n",
       "\n",
       "[161 rows x 14 columns]"
      ]
     },
     "execution_count": 55,
     "metadata": {},
     "output_type": "execute_result"
    }
   ],
   "source": [
    "put_options"
   ]
  },
  {
   "cell_type": "markdown",
   "id": "b0d6b449-eafc-46bc-be87-b3f4379104de",
   "metadata": {},
   "source": [
    "***\n",
    ">_30. Select 5 strike levels for a call option: 2 ITM, 1 ATM, and 2 OTM._"
   ]
  },
  {
   "cell_type": "code",
   "execution_count": 89,
   "id": "fa36a6ef-1057-4c7f-b8d5-0d347b2985b0",
   "metadata": {},
   "outputs": [
    {
     "data": {
      "text/plain": [
       "strike\n",
       "260.00    14\n",
       "266.67    15\n",
       "273.33    13\n",
       "280.00    15\n",
       "283.33    15\n",
       "Name: expirationDate, dtype: int64"
      ]
     },
     "execution_count": 89,
     "metadata": {},
     "output_type": "execute_result"
    }
   ],
   "source": [
    "START_STRIKE = 0\n",
    "NUMBER_OF_STRIKES = 5\n",
    "\n",
    "call_strike_count = call_options.groupby(\"strike\")[\"expirationDate\"].count()\n",
    "call_option_strikes = pd.Series(dtype=float)\n",
    "call_option_strikes = call_strike_count[\n",
    "    call_strike_count >= call_strike_count.max() - 2\n",
    "]\n",
    "# Narrow it down to 5 select strikes for performance reasons\n",
    "call_option_strikes = call_option_strikes.iloc[\n",
    "    START_STRIKE : START_STRIKE + NUMBER_OF_STRIKES\n",
    "]\n",
    "call_option_strikes"
   ]
  },
  {
   "cell_type": "code",
   "execution_count": 128,
   "id": "0d2a73e7-5873-4930-85a3-65f2be8e53e9",
   "metadata": {},
   "outputs": [
    {
     "data": {
      "text/plain": [
       "array(['2022-09-10T00:00:00.000000000', '2022-09-17T00:00:00.000000000',\n",
       "       '2022-09-24T00:00:00.000000000', '2022-10-01T00:00:00.000000000'],\n",
       "      dtype='datetime64[ns]')"
      ]
     },
     "execution_count": 128,
     "metadata": {},
     "output_type": "execute_result"
    }
   ],
   "source": [
    "START_TENURE = 0\n",
    "NO_OF_TENURES = 4\n",
    "\n",
    "call_options_expirations = call_options[\"expirationDate\"].unique()\n",
    "# Narrow it down to top select expirations for performance reasons\n",
    "call_options_expirations = call_options_expirations[\n",
    "    START_TENURE : START_TENURE + NO_OF_TENURES\n",
    "]\n",
    "call_options_expirations"
   ]
  },
  {
   "cell_type": "code",
   "execution_count": 129,
   "id": "cd6eda8a-f804-4385-9b68-dddac82fee3d",
   "metadata": {},
   "outputs": [
    {
     "data": {
      "text/html": [
       "<div>\n",
       "<style scoped>\n",
       "    .dataframe tbody tr th:only-of-type {\n",
       "        vertical-align: middle;\n",
       "    }\n",
       "\n",
       "    .dataframe tbody tr th {\n",
       "        vertical-align: top;\n",
       "    }\n",
       "\n",
       "    .dataframe thead th {\n",
       "        text-align: right;\n",
       "    }\n",
       "</style>\n",
       "<table border=\"1\" class=\"dataframe\">\n",
       "  <thead>\n",
       "    <tr style=\"text-align: right;\">\n",
       "      <th></th>\n",
       "      <th>contractSymbol</th>\n",
       "      <th>strike</th>\n",
       "      <th>lastPrice</th>\n",
       "      <th>bid</th>\n",
       "      <th>ask</th>\n",
       "      <th>volume</th>\n",
       "      <th>openInterest</th>\n",
       "      <th>impliedVolatility</th>\n",
       "      <th>inTheMoney</th>\n",
       "      <th>expirationDate</th>\n",
       "      <th>dte</th>\n",
       "      <th>CALL</th>\n",
       "      <th>PUT</th>\n",
       "      <th>mark</th>\n",
       "    </tr>\n",
       "  </thead>\n",
       "  <tbody>\n",
       "    <tr>\n",
       "      <th>56</th>\n",
       "      <td>TSLA220909C00266670</td>\n",
       "      <td>266.67</td>\n",
       "      <td>8.76</td>\n",
       "      <td>8.90</td>\n",
       "      <td>9.20</td>\n",
       "      <td>1236.0</td>\n",
       "      <td>4387.0</td>\n",
       "      <td>0.569829</td>\n",
       "      <td>True</td>\n",
       "      <td>2022-09-10</td>\n",
       "      <td>0.013699</td>\n",
       "      <td>True</td>\n",
       "      <td>False</td>\n",
       "      <td>9.050</td>\n",
       "    </tr>\n",
       "    <tr>\n",
       "      <th>60</th>\n",
       "      <td>TSLA220909C00273330</td>\n",
       "      <td>273.33</td>\n",
       "      <td>5.46</td>\n",
       "      <td>5.35</td>\n",
       "      <td>5.65</td>\n",
       "      <td>5165.0</td>\n",
       "      <td>1165.0</td>\n",
       "      <td>0.547612</td>\n",
       "      <td>False</td>\n",
       "      <td>2022-09-10</td>\n",
       "      <td>0.013699</td>\n",
       "      <td>True</td>\n",
       "      <td>False</td>\n",
       "      <td>5.500</td>\n",
       "    </tr>\n",
       "    <tr>\n",
       "      <th>64</th>\n",
       "      <td>TSLA220909C00280000</td>\n",
       "      <td>280.00</td>\n",
       "      <td>2.96</td>\n",
       "      <td>2.93</td>\n",
       "      <td>3.05</td>\n",
       "      <td>38063.0</td>\n",
       "      <td>3844.0</td>\n",
       "      <td>0.528813</td>\n",
       "      <td>False</td>\n",
       "      <td>2022-09-10</td>\n",
       "      <td>0.013699</td>\n",
       "      <td>True</td>\n",
       "      <td>False</td>\n",
       "      <td>2.990</td>\n",
       "    </tr>\n",
       "    <tr>\n",
       "      <th>66</th>\n",
       "      <td>TSLA220909C00283330</td>\n",
       "      <td>283.33</td>\n",
       "      <td>2.13</td>\n",
       "      <td>2.07</td>\n",
       "      <td>2.21</td>\n",
       "      <td>4575.0</td>\n",
       "      <td>1135.0</td>\n",
       "      <td>0.524175</td>\n",
       "      <td>False</td>\n",
       "      <td>2022-09-10</td>\n",
       "      <td>0.013699</td>\n",
       "      <td>True</td>\n",
       "      <td>False</td>\n",
       "      <td>2.140</td>\n",
       "    </tr>\n",
       "    <tr>\n",
       "      <th>702</th>\n",
       "      <td>TSLA220916C00260000</td>\n",
       "      <td>260.00</td>\n",
       "      <td>16.89</td>\n",
       "      <td>17.10</td>\n",
       "      <td>17.45</td>\n",
       "      <td>225.0</td>\n",
       "      <td>21062.0</td>\n",
       "      <td>0.597538</td>\n",
       "      <td>True</td>\n",
       "      <td>2022-09-17</td>\n",
       "      <td>0.032877</td>\n",
       "      <td>True</td>\n",
       "      <td>False</td>\n",
       "      <td>17.275</td>\n",
       "    </tr>\n",
       "    <tr>\n",
       "      <th>707</th>\n",
       "      <td>TSLA220916C00266670</td>\n",
       "      <td>266.67</td>\n",
       "      <td>12.75</td>\n",
       "      <td>12.90</td>\n",
       "      <td>13.30</td>\n",
       "      <td>736.0</td>\n",
       "      <td>46096.0</td>\n",
       "      <td>0.579167</td>\n",
       "      <td>True</td>\n",
       "      <td>2022-09-17</td>\n",
       "      <td>0.032877</td>\n",
       "      <td>True</td>\n",
       "      <td>False</td>\n",
       "      <td>13.100</td>\n",
       "    </tr>\n",
       "    <tr>\n",
       "      <th>713</th>\n",
       "      <td>TSLA220916C00273330</td>\n",
       "      <td>273.33</td>\n",
       "      <td>9.41</td>\n",
       "      <td>9.40</td>\n",
       "      <td>9.70</td>\n",
       "      <td>1092.0</td>\n",
       "      <td>7366.0</td>\n",
       "      <td>0.561772</td>\n",
       "      <td>False</td>\n",
       "      <td>2022-09-17</td>\n",
       "      <td>0.032877</td>\n",
       "      <td>True</td>\n",
       "      <td>False</td>\n",
       "      <td>9.550</td>\n",
       "    </tr>\n",
       "    <tr>\n",
       "      <th>718</th>\n",
       "      <td>TSLA220916C00280000</td>\n",
       "      <td>280.00</td>\n",
       "      <td>6.62</td>\n",
       "      <td>6.55</td>\n",
       "      <td>6.75</td>\n",
       "      <td>8323.0</td>\n",
       "      <td>6261.0</td>\n",
       "      <td>0.545415</td>\n",
       "      <td>False</td>\n",
       "      <td>2022-09-17</td>\n",
       "      <td>0.032877</td>\n",
       "      <td>True</td>\n",
       "      <td>False</td>\n",
       "      <td>6.650</td>\n",
       "    </tr>\n",
       "    <tr>\n",
       "      <th>720</th>\n",
       "      <td>TSLA220916C00283330</td>\n",
       "      <td>283.33</td>\n",
       "      <td>5.48</td>\n",
       "      <td>5.35</td>\n",
       "      <td>5.60</td>\n",
       "      <td>2157.0</td>\n",
       "      <td>18377.0</td>\n",
       "      <td>0.539189</td>\n",
       "      <td>False</td>\n",
       "      <td>2022-09-17</td>\n",
       "      <td>0.032877</td>\n",
       "      <td>True</td>\n",
       "      <td>False</td>\n",
       "      <td>5.475</td>\n",
       "    </tr>\n",
       "    <tr>\n",
       "      <th>1710</th>\n",
       "      <td>TSLA220923C00260000</td>\n",
       "      <td>260.00</td>\n",
       "      <td>20.01</td>\n",
       "      <td>19.45</td>\n",
       "      <td>20.70</td>\n",
       "      <td>70.0</td>\n",
       "      <td>751.0</td>\n",
       "      <td>0.597172</td>\n",
       "      <td>True</td>\n",
       "      <td>2022-09-24</td>\n",
       "      <td>0.052055</td>\n",
       "      <td>True</td>\n",
       "      <td>False</td>\n",
       "      <td>20.075</td>\n",
       "    </tr>\n",
       "    <tr>\n",
       "      <th>1714</th>\n",
       "      <td>TSLA220923C00266670</td>\n",
       "      <td>266.67</td>\n",
       "      <td>16.95</td>\n",
       "      <td>15.70</td>\n",
       "      <td>16.45</td>\n",
       "      <td>98.0</td>\n",
       "      <td>182.0</td>\n",
       "      <td>0.583012</td>\n",
       "      <td>True</td>\n",
       "      <td>2022-09-24</td>\n",
       "      <td>0.052055</td>\n",
       "      <td>True</td>\n",
       "      <td>False</td>\n",
       "      <td>16.075</td>\n",
       "    </tr>\n",
       "    <tr>\n",
       "      <th>1718</th>\n",
       "      <td>TSLA220923C00273330</td>\n",
       "      <td>273.33</td>\n",
       "      <td>12.20</td>\n",
       "      <td>12.25</td>\n",
       "      <td>12.70</td>\n",
       "      <td>51.0</td>\n",
       "      <td>78.0</td>\n",
       "      <td>0.565495</td>\n",
       "      <td>False</td>\n",
       "      <td>2022-09-24</td>\n",
       "      <td>0.052055</td>\n",
       "      <td>True</td>\n",
       "      <td>False</td>\n",
       "      <td>12.475</td>\n",
       "    </tr>\n",
       "    <tr>\n",
       "      <th>1722</th>\n",
       "      <td>TSLA220923C00280000</td>\n",
       "      <td>280.00</td>\n",
       "      <td>9.35</td>\n",
       "      <td>9.30</td>\n",
       "      <td>9.65</td>\n",
       "      <td>502.0</td>\n",
       "      <td>379.0</td>\n",
       "      <td>0.552373</td>\n",
       "      <td>False</td>\n",
       "      <td>2022-09-24</td>\n",
       "      <td>0.052055</td>\n",
       "      <td>True</td>\n",
       "      <td>False</td>\n",
       "      <td>9.475</td>\n",
       "    </tr>\n",
       "    <tr>\n",
       "      <th>1724</th>\n",
       "      <td>TSLA220923C00283330</td>\n",
       "      <td>283.33</td>\n",
       "      <td>7.92</td>\n",
       "      <td>7.95</td>\n",
       "      <td>8.35</td>\n",
       "      <td>301.0</td>\n",
       "      <td>693.0</td>\n",
       "      <td>0.545171</td>\n",
       "      <td>False</td>\n",
       "      <td>2022-09-24</td>\n",
       "      <td>0.052055</td>\n",
       "      <td>True</td>\n",
       "      <td>False</td>\n",
       "      <td>8.150</td>\n",
       "    </tr>\n",
       "    <tr>\n",
       "      <th>2226</th>\n",
       "      <td>TSLA220930C00266670</td>\n",
       "      <td>266.67</td>\n",
       "      <td>18.23</td>\n",
       "      <td>18.15</td>\n",
       "      <td>18.70</td>\n",
       "      <td>200.0</td>\n",
       "      <td>233.0</td>\n",
       "      <td>0.581181</td>\n",
       "      <td>True</td>\n",
       "      <td>2022-10-01</td>\n",
       "      <td>0.071233</td>\n",
       "      <td>True</td>\n",
       "      <td>False</td>\n",
       "      <td>18.425</td>\n",
       "    </tr>\n",
       "    <tr>\n",
       "      <th>2229</th>\n",
       "      <td>TSLA220930C00273330</td>\n",
       "      <td>273.33</td>\n",
       "      <td>14.60</td>\n",
       "      <td>14.60</td>\n",
       "      <td>15.20</td>\n",
       "      <td>68.0</td>\n",
       "      <td>685.0</td>\n",
       "      <td>0.567692</td>\n",
       "      <td>False</td>\n",
       "      <td>2022-10-01</td>\n",
       "      <td>0.071233</td>\n",
       "      <td>True</td>\n",
       "      <td>False</td>\n",
       "      <td>14.900</td>\n",
       "    </tr>\n",
       "    <tr>\n",
       "      <th>2233</th>\n",
       "      <td>TSLA220930C00280000</td>\n",
       "      <td>280.00</td>\n",
       "      <td>11.75</td>\n",
       "      <td>11.55</td>\n",
       "      <td>12.00</td>\n",
       "      <td>1354.0</td>\n",
       "      <td>875.0</td>\n",
       "      <td>0.553654</td>\n",
       "      <td>False</td>\n",
       "      <td>2022-10-01</td>\n",
       "      <td>0.071233</td>\n",
       "      <td>True</td>\n",
       "      <td>False</td>\n",
       "      <td>11.775</td>\n",
       "    </tr>\n",
       "    <tr>\n",
       "      <th>2235</th>\n",
       "      <td>TSLA220930C00283330</td>\n",
       "      <td>283.33</td>\n",
       "      <td>10.40</td>\n",
       "      <td>10.10</td>\n",
       "      <td>10.80</td>\n",
       "      <td>58.0</td>\n",
       "      <td>201.0</td>\n",
       "      <td>0.549260</td>\n",
       "      <td>False</td>\n",
       "      <td>2022-10-01</td>\n",
       "      <td>0.071233</td>\n",
       "      <td>True</td>\n",
       "      <td>False</td>\n",
       "      <td>10.450</td>\n",
       "    </tr>\n",
       "  </tbody>\n",
       "</table>\n",
       "</div>"
      ],
      "text/plain": [
       "           contractSymbol  strike  lastPrice    bid    ask   volume  \\\n",
       "56    TSLA220909C00266670  266.67       8.76   8.90   9.20   1236.0   \n",
       "60    TSLA220909C00273330  273.33       5.46   5.35   5.65   5165.0   \n",
       "64    TSLA220909C00280000  280.00       2.96   2.93   3.05  38063.0   \n",
       "66    TSLA220909C00283330  283.33       2.13   2.07   2.21   4575.0   \n",
       "702   TSLA220916C00260000  260.00      16.89  17.10  17.45    225.0   \n",
       "707   TSLA220916C00266670  266.67      12.75  12.90  13.30    736.0   \n",
       "713   TSLA220916C00273330  273.33       9.41   9.40   9.70   1092.0   \n",
       "718   TSLA220916C00280000  280.00       6.62   6.55   6.75   8323.0   \n",
       "720   TSLA220916C00283330  283.33       5.48   5.35   5.60   2157.0   \n",
       "1710  TSLA220923C00260000  260.00      20.01  19.45  20.70     70.0   \n",
       "1714  TSLA220923C00266670  266.67      16.95  15.70  16.45     98.0   \n",
       "1718  TSLA220923C00273330  273.33      12.20  12.25  12.70     51.0   \n",
       "1722  TSLA220923C00280000  280.00       9.35   9.30   9.65    502.0   \n",
       "1724  TSLA220923C00283330  283.33       7.92   7.95   8.35    301.0   \n",
       "2226  TSLA220930C00266670  266.67      18.23  18.15  18.70    200.0   \n",
       "2229  TSLA220930C00273330  273.33      14.60  14.60  15.20     68.0   \n",
       "2233  TSLA220930C00280000  280.00      11.75  11.55  12.00   1354.0   \n",
       "2235  TSLA220930C00283330  283.33      10.40  10.10  10.80     58.0   \n",
       "\n",
       "      openInterest  impliedVolatility  inTheMoney expirationDate       dte  \\\n",
       "56          4387.0           0.569829        True     2022-09-10  0.013699   \n",
       "60          1165.0           0.547612       False     2022-09-10  0.013699   \n",
       "64          3844.0           0.528813       False     2022-09-10  0.013699   \n",
       "66          1135.0           0.524175       False     2022-09-10  0.013699   \n",
       "702        21062.0           0.597538        True     2022-09-17  0.032877   \n",
       "707        46096.0           0.579167        True     2022-09-17  0.032877   \n",
       "713         7366.0           0.561772       False     2022-09-17  0.032877   \n",
       "718         6261.0           0.545415       False     2022-09-17  0.032877   \n",
       "720        18377.0           0.539189       False     2022-09-17  0.032877   \n",
       "1710         751.0           0.597172        True     2022-09-24  0.052055   \n",
       "1714         182.0           0.583012        True     2022-09-24  0.052055   \n",
       "1718          78.0           0.565495       False     2022-09-24  0.052055   \n",
       "1722         379.0           0.552373       False     2022-09-24  0.052055   \n",
       "1724         693.0           0.545171       False     2022-09-24  0.052055   \n",
       "2226         233.0           0.581181        True     2022-10-01  0.071233   \n",
       "2229         685.0           0.567692       False     2022-10-01  0.071233   \n",
       "2233         875.0           0.553654       False     2022-10-01  0.071233   \n",
       "2235         201.0           0.549260       False     2022-10-01  0.071233   \n",
       "\n",
       "      CALL    PUT    mark  \n",
       "56    True  False   9.050  \n",
       "60    True  False   5.500  \n",
       "64    True  False   2.990  \n",
       "66    True  False   2.140  \n",
       "702   True  False  17.275  \n",
       "707   True  False  13.100  \n",
       "713   True  False   9.550  \n",
       "718   True  False   6.650  \n",
       "720   True  False   5.475  \n",
       "1710  True  False  20.075  \n",
       "1714  True  False  16.075  \n",
       "1718  True  False  12.475  \n",
       "1722  True  False   9.475  \n",
       "1724  True  False   8.150  \n",
       "2226  True  False  18.425  \n",
       "2229  True  False  14.900  \n",
       "2233  True  False  11.775  \n",
       "2235  True  False  10.450  "
      ]
     },
     "execution_count": 129,
     "metadata": {},
     "output_type": "execute_result"
    }
   ],
   "source": [
    "call_options_filtered = call_options[\n",
    "    call_options[\"strike\"].isin(call_option_strikes.index.values)\n",
    "]\n",
    "call_options_filtered = call_options_filtered[\n",
    "    call_options_filtered[\"expirationDate\"].isin(call_options_expirations)\n",
    "]\n",
    "call_options_filtered.tail(18)"
   ]
  },
  {
   "cell_type": "markdown",
   "id": "340909c3-823c-48d4-ad8d-4d50da3f0962",
   "metadata": {},
   "source": [
    "Plot the implied vols for visual check and interpretation:"
   ]
  },
  {
   "cell_type": "markdown",
   "id": "be27e59f-6f6c-4823-a724-bd724f3c7d7d",
   "metadata": {},
   "source": [
    "***\n",
    ">_31. Are these options European or American?_\n",
    "\n",
    ">TSLA options are American options listed on US options exchange CBOE."
   ]
  },
  {
   "cell_type": "markdown",
   "id": "90a3807d-4170-481b-8893-64991a6844ea",
   "metadata": {},
   "source": [
    "***\n",
    ">_32. Using these strike levels, apply your code to price that option. Be sure to use the correct values of stock price, strike level, time to maturity, risk-free rate, and volatility._"
   ]
  },
  {
   "cell_type": "markdown",
   "id": "62021610-4214-48da-949f-e07c9adf7542",
   "metadata": {},
   "source": [
    "As options chosen by us above are American options, we price call options using Binomial tree here below:"
   ]
  },
  {
   "cell_type": "code",
   "execution_count": 130,
   "id": "ba9e83d0-1235-43a5-a2d1-c6a09e38f0b8",
   "metadata": {},
   "outputs": [],
   "source": [
    "# Poor man's way to use risk-free rate structure with linear interpolation of current treasury yield rates\n",
    "treasury_yields = np.linspace(0.0287, 0.0289, len(call_options_expirations))\n",
    "\n",
    "call_options_filtered_strikes = call_options_filtered[\"strike\"].unique()\n",
    "call_options_filtered_expirations = call_options_filtered[\"expirationDate\"].unique()\n",
    "# Set index on strikes and expiration dates for further processing\n",
    "call_options_filtered_by_strike_exp = call_options_filtered.set_index(\n",
    "    [\"strike\", \"expirationDate\"]\n",
    ")\n",
    "\n",
    "american_or_european = \"A\"\n",
    "call_or_put = \"C\"\n",
    "call_tree_prices = []\n",
    "for j, expiration in enumerate(call_options_filtered_expirations):\n",
    "    tree_temp = []\n",
    "    for i, strike in enumerate(call_options_filtered_strikes):\n",
    "        try:\n",
    "            option = call_options_filtered_by_strike_exp.loc[strike, expiration]\n",
    "            tree_temp.append(\n",
    "                binomial_tree_option_value(\n",
    "                    underlying_price,\n",
    "                    strike,\n",
    "                    option[\"dte\"],\n",
    "                    treasury_yields[j],\n",
    "                    option[\"impliedVolatility\"],\n",
    "                    american_or_european,\n",
    "                    call_or_put,\n",
    "                )\n",
    "            )\n",
    "        except KeyError:\n",
    "            tree_temp.append(np.NaN)\n",
    "    call_tree_prices.append(tree_temp)"
   ]
  },
  {
   "cell_type": "markdown",
   "id": "e87faf44-484a-47b1-a5a5-83a1ca657f06",
   "metadata": {},
   "source": [
    "Graph Option prices obtained using Binomial tree"
   ]
  },
  {
   "cell_type": "code",
   "execution_count": 131,
   "id": "038b60c3-24db-4596-a2f1-ae85aca566c5",
   "metadata": {},
   "outputs": [
    {
     "data": {
      "image/png": "[encoded data removed]",
      "text/plain": [
       "<Figure size 720x432 with 1 Axes>"
      ]
     },
     "metadata": {},
     "output_type": "display_data"
    }
   ],
   "source": [
    "# option prices using binomial tree\n",
    "call_prices_vols_stacked = np.vstack(call_tree_prices)\n",
    "\n",
    "fig, ax = plt.subplots()\n",
    "for i, call_tree_price in enumerate(call_tree_prices):\n",
    "    plt.plot(\n",
    "        call_options_filtered_strikes,\n",
    "        np.array(call_tree_price),\n",
    "        label=pd.to_datetime(call_options_expirations[i]).date(),\n",
    "        linewidth = 2\n",
    "    )\n",
    "\n",
    "ax.set_xlabel(\"Strike\", fontsize=14)\n",
    "ax.set_ylabel(\"Call price\", fontsize=14)\n",
    "\n",
    "ax.set_title(f\"{UNDERLYING_SYMBOL} call option prices\", fontsize=14)\n",
    "ax.legend()\n",
    "fig.tight_layout()\n",
    "plt.show()"
   ]
  },
  {
   "cell_type": "markdown",
   "id": "2d8540e6-d336-47c1-9923-271baf14add7",
   "metadata": {},
   "source": [
    "***\n",
    ">_33. How well did Black-Scholes match the prices?_ \\\n",
    "Black-Scholes model will not apply to the American options we chose to price. Please see response to #34."
   ]
  },
  {
   "cell_type": "markdown",
   "id": "855a0d4a-ae43-44e7-b8a4-ab6dfdd94c33",
   "metadata": {},
   "source": [
    "***\n",
    ">_34. How well did binomial trees match the prices?_ \\\n",
    "Options prices obtained using binomial tree match very close (to not allow economically feasible arbitrage) to the market prices and to those obtained using Black-Scholes model. "
   ]
  },
  {
   "cell_type": "markdown",
   "id": "ba5febba-08d5-49ca-a924-4a5019ef0bfc",
   "metadata": {},
   "source": [
    "***\n",
    ">_35. Graph the deltas and gammas._"
   ]
  },
  {
   "cell_type": "markdown",
   "id": "eb57d702-dab2-42b9-8b60-08aea40882c7",
   "metadata": {},
   "source": [
    "<font size=4>**Call options deltas**</font>"
   ]
  },
  {
   "cell_type": "code",
   "execution_count": 132,
   "id": "8f2c262d-b7fe-409c-856e-676d9eafba04",
   "metadata": {},
   "outputs": [],
   "source": [
    "american_or_european = \"A\"\n",
    "call_or_put = \"C\"\n",
    "call_binomial_deltas = []\n",
    "for j, expiration in enumerate(call_options_filtered_expirations):\n",
    "    binomial_delta_temp = []\n",
    "    for i, strike in enumerate(call_options_filtered_strikes):\n",
    "        try:\n",
    "            option = call_options_filtered_by_strike_exp.loc[strike, expiration]\n",
    "            binomial_delta_temp.append(\n",
    "                binomial_tree_δ(\n",
    "                    underlying_price,\n",
    "                    strike,\n",
    "                    option[\"dte\"],\n",
    "                    treasury_yields[j],\n",
    "                    option[\"impliedVolatility\"],\n",
    "                    american_or_european,\n",
    "                    call_or_put\n",
    "                )\n",
    "            )\n",
    "        except KeyError:\n",
    "            binomial_delta_temp.append(np.NaN)\n",
    "    call_binomial_deltas.append(binomial_delta_temp)"
   ]
  },
  {
   "cell_type": "markdown",
   "id": "959c3794-8515-48d4-b542-708a81f69fe6",
   "metadata": {},
   "source": [
    "Graph call option deltas obtained by using binomial tree:"
   ]
  },
  {
   "cell_type": "code",
   "execution_count": 133,
   "id": "323ddcf2-99ab-4140-844a-48b2cbaf7453",
   "metadata": {},
   "outputs": [
    {
     "data": {
      "image/png": "[encoded data removed]",
      "text/plain": [
       "<Figure size 720x432 with 1 Axes>"
      ]
     },
     "metadata": {},
     "output_type": "display_data"
    }
   ],
   "source": [
    "fig, ax = plt.subplots()\n",
    "for i, call_binomial_delta in enumerate(call_binomial_deltas):\n",
    "    plt.plot(\n",
    "        call_options_filtered_strikes,\n",
    "        np.array(call_binomial_delta),\n",
    "        label=pd.to_datetime(call_options_expirations[i]).date(),\n",
    "    )\n",
    "\n",
    "ax.set_xlabel(\"Strike\", fontsize=14)\n",
    "ax.set_ylabel(\"Call delta\", fontsize=14)\n",
    "\n",
    "ax.set_title(f\"{UNDERLYING_SYMBOL} call option deltas\", fontsize=14)\n",
    "ax.legend()\n",
    "fig.tight_layout()\n",
    "plt.show()"
   ]
  },
  {
   "cell_type": "markdown",
   "id": "05d1f991-b04e-419c-b104-4a68f368aa81",
   "metadata": {},
   "source": [
    "***\n",
    "<font size=4>**Call options gammas**</font>"
   ]
  },
  {
   "cell_type": "code",
   "execution_count": 134,
   "id": "40e5a52d-760f-4ea1-878c-79c41acd658a",
   "metadata": {},
   "outputs": [],
   "source": [
    "american_or_european = \"A\"\n",
    "call_or_put = \"C\"\n",
    "call_binomial_gammas = []\n",
    "for j, expiration in enumerate(call_options_filtered_expirations):\n",
    "    binomial_gamma_temp = []\n",
    "    for i, strike in enumerate(call_options_filtered_strikes):\n",
    "        try:\n",
    "            option = call_options_filtered_by_strike_exp.loc[strike, expiration]\n",
    "            binomial_gamma_temp.append(\n",
    "                binomial_tree_γ(\n",
    "                    underlying_price,\n",
    "                    strike,\n",
    "                    option[\"dte\"],\n",
    "                    treasury_yields[j],\n",
    "                    option[\"impliedVolatility\"],\n",
    "                    american_or_european,\n",
    "                    call_or_put,\n",
    "                )\n",
    "            )\n",
    "        except KeyError:\n",
    "            binomial_gamma_temp.append(np.NaN)\n",
    "    call_binomial_gammas.append(binomial_gamma_temp)"
   ]
  },
  {
   "cell_type": "markdown",
   "id": "7d923ddd-c6c6-4d00-935b-73bfec839555",
   "metadata": {},
   "source": [
    "Graph call option gammas obtained by using binomial tree:"
   ]
  },
  {
   "cell_type": "code",
   "execution_count": 135,
   "id": "4c17b2ab-fb00-40d2-86dd-eb1756d9879f",
   "metadata": {},
   "outputs": [
    {
     "data": {
      "image/png": "[encoded data removed]",
      "text/plain": [
       "<Figure size 720x432 with 1 Axes>"
      ]
     },
     "metadata": {},
     "output_type": "display_data"
    }
   ],
   "source": [
    "fig, ax = plt.subplots()\n",
    "for i, call_binomial_gamma in enumerate(call_binomial_gammas):\n",
    "    plt.plot(\n",
    "        call_options_filtered_strikes,\n",
    "        np.array(call_binomial_gamma),\n",
    "        label=pd.to_datetime(call_options_expirations[i]).date(),\n",
    "    )\n",
    "\n",
    "ax.set_xlabel(\"Strike\", fontsize=14)\n",
    "ax.set_ylabel(\"Call gamma\", fontsize=14)\n",
    "\n",
    "ax.set_title(f\"{UNDERLYING_SYMBOL} call option gammas\", fontsize=14)\n",
    "ax.legend()\n",
    "fig.tight_layout()\n",
    "plt.show()"
   ]
  },
  {
   "cell_type": "markdown",
   "id": "0f15d036-5eaa-496f-ab93-3ca14d1ec3c4",
   "metadata": {},
   "source": [
    "***\n",
    "# Conclusions:\n",
    "***\n",
    "> At the start of this exercise, we examined put-call parity for American and European options. We observed that put-call parity for the European options priced using BSM model holds, however, does not hold for American options. The feature of early exercise available to holders of American options allow for the divergence of values for these type of put and call options.\n",
    "\n",
    "> We also do price comparison between American and European options. We find not much difference in pricing of American and European call options as it is not economically feasible for these options to be exercised prior to expiration for a non-dividend paying stock. We found American put options to be more than or at least as valuable as European put options. \n",
    "\n",
    "> In later part of this study, we priced European options a different strike levels with both call and put options being OTM, deep-OTM, ATM, ITM and deep-ITM. We observed the progression of various greeks for call and put options. Graphs for European and American call option greeks were created for visual inspection and analysis."
   ]
  }
 ],
 "metadata": {
  "kernelspec": {
   "display_name": "Python 3 (ipykernel)",
   "language": "python",
   "name": "python3"
  },
  "language_info": {
   "codemirror_mode": {
    "name": "ipython",
    "version": 3
   },
   "file_extension": ".py",
   "mimetype": "text/x-python",
   "name": "python",
   "nbconvert_exporter": "python",
   "pygments_lexer": "ipython3",
   "version": "3.9.7"
  },
  "toc-autonumbering": true,
  "toc-showmarkdowntxt": false,
  "toc-showtags": true
 },
 "nbformat": 4,
 "nbformat_minor": 5
}
